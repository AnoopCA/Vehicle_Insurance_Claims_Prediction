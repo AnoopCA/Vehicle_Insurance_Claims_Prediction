{
 "cells": [
  {
   "cell_type": "markdown",
   "metadata": {},
   "source": [
    "Vehicle Insurance Claims Prediction"
   ]
  },
  {
   "cell_type": "markdown",
   "metadata": {},
   "source": [
    "The \"Vehicle Insurance Claims Prediction\" project was part of the \"Allstate Claim Prediction Challenge\" on Kaggle, held on 13-07-2011, with a focus on predicting claims payments. The goal was to develop predictive models to estimate insurance claims payments based on historical data and relevant features, using various machine learning techniques, data preprocessing methods, and feature engineering approaches to improve prediction accuracy."
   ]
  },
  {
   "cell_type": "markdown",
   "metadata": {},
   "source": [
    "Import necessary libraries:"
   ]
  },
  {
   "cell_type": "code",
   "execution_count": 1,
   "metadata": {},
   "outputs": [],
   "source": [
    "import numpy as np\n",
    "import pandas as pd\n",
    "import matplotlib.pyplot as plt\n",
    "import seaborn as sns\n",
    "import warnings\n",
    "from sklearn.model_selection import train_test_split\n",
    "\n",
    "sns.set_style('whitegrid')\n",
    "warnings.filterwarnings('ignore')"
   ]
  },
  {
   "cell_type": "markdown",
   "metadata": {},
   "source": [
    "Import data:"
   ]
  },
  {
   "cell_type": "code",
   "execution_count": 3,
   "metadata": {},
   "outputs": [],
   "source": [
    "train_data = pd.read_csv(r'D:\\ML_Projects\\Vehicle_Insurance_Claims_Prediction\\train_set.csv')\n",
    "train_y = train_data['Claim_Amount']\n",
    "\n",
    "x_train, x_test, y_train, y_test = train_test_split(train_data, train_y, test_size=0.3)\n",
    "\n",
    "test_data = pd.read_csv(r'D:\\ML_Projects\\Vehicle_Insurance_Claims_Prediction\\test_set.csv')\n",
    "example_entry = pd.read_csv(r'D:\\ML_Projects\\Vehicle_Insurance_Claims_Prediction\\example_entry.csv')\n",
    "test_data = test_data.merge(example_entry, on='Row_ID', how='left')\n",
    "#y_test = test_data['Claim_Amount']"
   ]
  },
  {
   "cell_type": "code",
   "execution_count": 3,
   "metadata": {},
   "outputs": [
    {
     "name": "stdout",
     "output_type": "stream",
     "text": [
      "Number of training samples:  13,184,290\n",
      "Number of test samples:  4,314,865\n",
      "Train % :  75.3 %\n",
      "Test %  :  24.7 %\n"
     ]
    }
   ],
   "source": [
    "print('Number of training samples: ', format(len(train_data),','))\n",
    "print('Number of test samples: ', format(len(test_data), ','))\n",
    "print('Train % : ', round(len(train_data) / (len(train_data) + len(test_data)), 3)*100,'%')\n",
    "print('Test %  : ', round(len(test_data) / (len(train_data) + len(test_data)), 3)*100, '%')"
   ]
  },
  {
   "cell_type": "code",
   "execution_count": 4,
   "metadata": {},
   "outputs": [
    {
     "name": "stdout",
     "output_type": "stream",
     "text": [
      "Features in training data: \n",
      " Index(['Row_ID', 'Household_ID', 'Vehicle', 'Calendar_Year', 'Model_Year',\n",
      "       'Blind_Make', 'Blind_Model', 'Blind_Submodel', 'Cat1', 'Cat2', 'Cat3',\n",
      "       'Cat4', 'Cat5', 'Cat6', 'Cat7', 'Cat8', 'Cat9', 'Cat10', 'Cat11',\n",
      "       'Cat12', 'OrdCat', 'Var1', 'Var2', 'Var3', 'Var4', 'Var5', 'Var6',\n",
      "       'Var7', 'Var8', 'NVCat', 'NVVar1', 'NVVar2', 'NVVar3', 'NVVar4',\n",
      "       'Claim_Amount'],\n",
      "      dtype='object')\n"
     ]
    }
   ],
   "source": [
    "print('Features in training data: \\n', train_data.columns)"
   ]
  },
  {
   "cell_type": "code",
   "execution_count": 56,
   "metadata": {},
   "outputs": [
    {
     "data": {
      "text/html": [
       "<div>\n",
       "<style scoped>\n",
       "    .dataframe tbody tr th:only-of-type {\n",
       "        vertical-align: middle;\n",
       "    }\n",
       "\n",
       "    .dataframe tbody tr th {\n",
       "        vertical-align: top;\n",
       "    }\n",
       "\n",
       "    .dataframe thead th {\n",
       "        text-align: right;\n",
       "    }\n",
       "</style>\n",
       "<table border=\"1\" class=\"dataframe\">\n",
       "  <thead>\n",
       "    <tr style=\"text-align: right;\">\n",
       "      <th></th>\n",
       "      <th>Row_ID</th>\n",
       "      <th>Household_ID</th>\n",
       "      <th>Vehicle</th>\n",
       "      <th>Calendar_Year</th>\n",
       "      <th>Model_Year</th>\n",
       "      <th>Blind_Make</th>\n",
       "      <th>Blind_Model</th>\n",
       "      <th>Blind_Submodel</th>\n",
       "      <th>Cat1</th>\n",
       "      <th>Cat2</th>\n",
       "      <th>...</th>\n",
       "      <th>Var5</th>\n",
       "      <th>Var6</th>\n",
       "      <th>Var7</th>\n",
       "      <th>Var8</th>\n",
       "      <th>NVCat</th>\n",
       "      <th>NVVar1</th>\n",
       "      <th>NVVar2</th>\n",
       "      <th>NVVar3</th>\n",
       "      <th>NVVar4</th>\n",
       "      <th>Claim_Amount</th>\n",
       "    </tr>\n",
       "  </thead>\n",
       "  <tbody>\n",
       "    <tr>\n",
       "      <th>0</th>\n",
       "      <td>1</td>\n",
       "      <td>1</td>\n",
       "      <td>3</td>\n",
       "      <td>2005</td>\n",
       "      <td>2005</td>\n",
       "      <td>K</td>\n",
       "      <td>K.78</td>\n",
       "      <td>K.78.2</td>\n",
       "      <td>D</td>\n",
       "      <td>C</td>\n",
       "      <td>...</td>\n",
       "      <td>1.008912</td>\n",
       "      <td>0.261040</td>\n",
       "      <td>0.907793</td>\n",
       "      <td>-0.077998</td>\n",
       "      <td>M</td>\n",
       "      <td>-0.23153</td>\n",
       "      <td>-0.266117</td>\n",
       "      <td>-0.272337</td>\n",
       "      <td>-0.251419</td>\n",
       "      <td>0.0</td>\n",
       "    </tr>\n",
       "    <tr>\n",
       "      <th>1</th>\n",
       "      <td>2</td>\n",
       "      <td>2</td>\n",
       "      <td>2</td>\n",
       "      <td>2005</td>\n",
       "      <td>2003</td>\n",
       "      <td>Q</td>\n",
       "      <td>Q.22</td>\n",
       "      <td>Q.22.3</td>\n",
       "      <td>B</td>\n",
       "      <td>C</td>\n",
       "      <td>...</td>\n",
       "      <td>1.240851</td>\n",
       "      <td>0.432987</td>\n",
       "      <td>-0.726459</td>\n",
       "      <td>0.204785</td>\n",
       "      <td>O</td>\n",
       "      <td>-0.23153</td>\n",
       "      <td>-0.266117</td>\n",
       "      <td>-0.272337</td>\n",
       "      <td>-0.251419</td>\n",
       "      <td>0.0</td>\n",
       "    </tr>\n",
       "    <tr>\n",
       "      <th>2</th>\n",
       "      <td>3</td>\n",
       "      <td>3</td>\n",
       "      <td>1</td>\n",
       "      <td>2005</td>\n",
       "      <td>1998</td>\n",
       "      <td>AR</td>\n",
       "      <td>AR.41</td>\n",
       "      <td>AR.41.1</td>\n",
       "      <td>B</td>\n",
       "      <td>?</td>\n",
       "      <td>...</td>\n",
       "      <td>-0.971487</td>\n",
       "      <td>-1.405797</td>\n",
       "      <td>-0.837048</td>\n",
       "      <td>-1.176858</td>\n",
       "      <td>F</td>\n",
       "      <td>-0.23153</td>\n",
       "      <td>-0.266117</td>\n",
       "      <td>-0.272337</td>\n",
       "      <td>-0.251419</td>\n",
       "      <td>0.0</td>\n",
       "    </tr>\n",
       "    <tr>\n",
       "      <th>3</th>\n",
       "      <td>4</td>\n",
       "      <td>3</td>\n",
       "      <td>1</td>\n",
       "      <td>2006</td>\n",
       "      <td>1998</td>\n",
       "      <td>AR</td>\n",
       "      <td>AR.41</td>\n",
       "      <td>AR.41.1</td>\n",
       "      <td>B</td>\n",
       "      <td>?</td>\n",
       "      <td>...</td>\n",
       "      <td>-0.971487</td>\n",
       "      <td>-1.405797</td>\n",
       "      <td>-0.837048</td>\n",
       "      <td>-1.176858</td>\n",
       "      <td>F</td>\n",
       "      <td>-0.23153</td>\n",
       "      <td>-0.266117</td>\n",
       "      <td>-0.272337</td>\n",
       "      <td>-0.251419</td>\n",
       "      <td>0.0</td>\n",
       "    </tr>\n",
       "    <tr>\n",
       "      <th>4</th>\n",
       "      <td>5</td>\n",
       "      <td>3</td>\n",
       "      <td>2</td>\n",
       "      <td>2005</td>\n",
       "      <td>2001</td>\n",
       "      <td>D</td>\n",
       "      <td>D.20</td>\n",
       "      <td>D.20.0</td>\n",
       "      <td>J</td>\n",
       "      <td>C</td>\n",
       "      <td>...</td>\n",
       "      <td>0.812656</td>\n",
       "      <td>2.112691</td>\n",
       "      <td>1.534462</td>\n",
       "      <td>2.347260</td>\n",
       "      <td>F</td>\n",
       "      <td>-0.23153</td>\n",
       "      <td>-0.266117</td>\n",
       "      <td>-0.272337</td>\n",
       "      <td>-0.251419</td>\n",
       "      <td>0.0</td>\n",
       "    </tr>\n",
       "  </tbody>\n",
       "</table>\n",
       "<p>5 rows × 35 columns</p>\n",
       "</div>"
      ],
      "text/plain": [
       "   Row_ID  Household_ID  Vehicle  Calendar_Year  Model_Year Blind_Make  \\\n",
       "0       1             1        3           2005        2005          K   \n",
       "1       2             2        2           2005        2003          Q   \n",
       "2       3             3        1           2005        1998         AR   \n",
       "3       4             3        1           2006        1998         AR   \n",
       "4       5             3        2           2005        2001          D   \n",
       "\n",
       "  Blind_Model Blind_Submodel Cat1 Cat2  ...      Var5      Var6      Var7  \\\n",
       "0        K.78         K.78.2    D    C  ...  1.008912  0.261040  0.907793   \n",
       "1        Q.22         Q.22.3    B    C  ...  1.240851  0.432987 -0.726459   \n",
       "2       AR.41        AR.41.1    B    ?  ... -0.971487 -1.405797 -0.837048   \n",
       "3       AR.41        AR.41.1    B    ?  ... -0.971487 -1.405797 -0.837048   \n",
       "4        D.20         D.20.0    J    C  ...  0.812656  2.112691  1.534462   \n",
       "\n",
       "       Var8 NVCat   NVVar1    NVVar2    NVVar3    NVVar4 Claim_Amount  \n",
       "0 -0.077998     M -0.23153 -0.266117 -0.272337 -0.251419          0.0  \n",
       "1  0.204785     O -0.23153 -0.266117 -0.272337 -0.251419          0.0  \n",
       "2 -1.176858     F -0.23153 -0.266117 -0.272337 -0.251419          0.0  \n",
       "3 -1.176858     F -0.23153 -0.266117 -0.272337 -0.251419          0.0  \n",
       "4  2.347260     F -0.23153 -0.266117 -0.272337 -0.251419          0.0  \n",
       "\n",
       "[5 rows x 35 columns]"
      ]
     },
     "execution_count": 56,
     "metadata": {},
     "output_type": "execute_result"
    }
   ],
   "source": [
    "train_data.head()"
   ]
  },
  {
   "cell_type": "code",
   "execution_count": 54,
   "metadata": {},
   "outputs": [
    {
     "name": "stdout",
     "output_type": "stream",
     "text": [
      "% of unique values in Household_ID: 32.68%\n"
     ]
    }
   ],
   "source": [
    "Unique_HID = train_data['Household_ID'].nunique() / len(train_data['Household_ID'])\n",
    "print(\"% of unique values in Household_ID: {:.2f}%\".format(Unique_HID * 100))"
   ]
  },
  {
   "cell_type": "code",
   "execution_count": 26,
   "metadata": {},
   "outputs": [
    {
     "name": "stdout",
     "output_type": "stream",
     "text": [
      "28\n"
     ]
    },
    {
     "data": {
      "text/plain": [
       "array([ 1,  2,  3,  4,  5,  6,  7,  8,  9, 10, 11, 12, 13, 14, 15, 16, 17,\n",
       "       18, 19, 20, 21, 22, 23, 24, 25, 26, 28, 29], dtype=int64)"
      ]
     },
     "execution_count": 26,
     "metadata": {},
     "output_type": "execute_result"
    }
   ],
   "source": [
    "print(train_data['Vehicle'].nunique())\n",
    "np.sort(train_data['Vehicle'].unique())"
   ]
  },
  {
   "cell_type": "code",
   "execution_count": 101,
   "metadata": {},
   "outputs": [
    {
     "name": "stdout",
     "output_type": "stream",
     "text": [
      "                  sum    count  % of occurrence\n",
      "Vehicle                                        \n",
      "1        8.466029e+06  6363423          48.2652\n",
      "2        5.238684e+06  3874475          29.3871\n",
      "3        2.475997e+06  1755032          13.3115\n",
      "4        1.097424e+06   714805           5.4216\n",
      "5        3.898626e+05   277944           2.1081\n",
      "6        1.548966e+05   114869           0.8713\n",
      "7        6.690532e+04    47576           0.3609\n",
      "8        2.371948e+04    19845           0.1505\n",
      "9        1.525438e+04     8533           0.0647\n",
      "10       5.131760e+03     3824           0.0290\n",
      "11       2.089310e+03     1866           0.0142\n",
      "12       1.386712e+03      931           0.0071\n",
      "13       5.279128e+02      493           0.0037\n",
      "14       0.000000e+00      273           0.0021\n",
      "15       0.000000e+00      151           0.0011\n",
      "16       1.034899e+02       96           0.0007\n",
      "17       0.000000e+00       62           0.0005\n",
      "18       0.000000e+00       30           0.0002\n",
      "19       1.303231e+03       25           0.0002\n",
      "20       0.000000e+00       12           0.0001\n",
      "21       0.000000e+00        6           0.0000\n",
      "22       0.000000e+00        6           0.0000\n",
      "23       0.000000e+00        3           0.0000\n",
      "24       0.000000e+00        4           0.0000\n",
      "25       0.000000e+00        3           0.0000\n",
      "26       0.000000e+00        1           0.0000\n",
      "28       0.000000e+00        1           0.0000\n",
      "29       0.000000e+00        1           0.0000\n"
     ]
    }
   ],
   "source": [
    "vehicle_stats = train_data.groupby(by='Vehicle')['Claim_Amount'].agg(['sum', 'count'])\n",
    "vehicle_stats['% of occurrence'] = round((vehicle_stats['count'] / vehicle_stats['count'].agg('sum')) * 100, 4)\n",
    "print(vehicle_stats)"
   ]
  },
  {
   "cell_type": "code",
   "execution_count": 102,
   "metadata": {},
   "outputs": [
    {
     "data": {
      "text/plain": [
       "<Axes: title={'center': 'Vehicle # within the household - Claim Amount'}, xlabel='Vehicle # within the household', ylabel='Sum of claim amount'>"
      ]
     },
     "execution_count": 102,
     "metadata": {},
     "output_type": "execute_result"
    },
    {
     "data": {
      "image/png": "[encoded data removed]",
      "text/plain": [
       "<Figure size 1200x500 with 1 Axes>"
      ]
     },
     "metadata": {},
     "output_type": "display_data"
    }
   ],
   "source": [
    "plt.figure(figsize=(12,5))\n",
    "plt.title('Vehicle # within the household - Claim Amount')\n",
    "plt.xlabel('Vehicle # within the household')\n",
    "plt.ylabel('Sum of claim amount')\n",
    "sns.barplot(train_data.groupby(by='Vehicle')['Claim_Amount'].agg('sum'))"
   ]
  },
  {
   "cell_type": "code",
   "execution_count": 73,
   "metadata": {},
   "outputs": [
    {
     "data": {
      "text/plain": [
       "Index(['Row_ID', 'Household_ID', 'Vehicle', 'Calendar_Year', 'Model_Year',\n",
       "       'Blind_Make', 'Blind_Model', 'Blind_Submodel', 'Cat1', 'Cat2', 'Cat3',\n",
       "       'Cat4', 'Cat5', 'Cat6', 'Cat7', 'Cat8', 'Cat9', 'Cat10', 'Cat11',\n",
       "       'Cat12', 'OrdCat', 'Var1', 'Var2', 'Var3', 'Var4', 'Var5', 'Var6',\n",
       "       'Var7', 'Var8', 'NVCat', 'NVVar1', 'NVVar2', 'NVVar3', 'NVVar4',\n",
       "       'Claim_Amount'],\n",
       "      dtype='object')"
      ]
     },
     "execution_count": 73,
     "metadata": {},
     "output_type": "execute_result"
    }
   ],
   "source": [
    "train_data.columns"
   ]
  },
  {
   "cell_type": "code",
   "execution_count": 81,
   "metadata": {},
   "outputs": [
    {
     "data": {
      "text/html": [
       "<div>\n",
       "<style scoped>\n",
       "    .dataframe tbody tr th:only-of-type {\n",
       "        vertical-align: middle;\n",
       "    }\n",
       "\n",
       "    .dataframe tbody tr th {\n",
       "        vertical-align: top;\n",
       "    }\n",
       "\n",
       "    .dataframe thead th {\n",
       "        text-align: right;\n",
       "    }\n",
       "</style>\n",
       "<table border=\"1\" class=\"dataframe\">\n",
       "  <thead>\n",
       "    <tr style=\"text-align: right;\">\n",
       "      <th></th>\n",
       "      <th>Row_ID</th>\n",
       "      <th>Household_ID</th>\n",
       "      <th>Vehicle</th>\n",
       "    </tr>\n",
       "  </thead>\n",
       "  <tbody>\n",
       "    <tr>\n",
       "      <th>0</th>\n",
       "      <td>1</td>\n",
       "      <td>1</td>\n",
       "      <td>3</td>\n",
       "    </tr>\n",
       "    <tr>\n",
       "      <th>1</th>\n",
       "      <td>2</td>\n",
       "      <td>2</td>\n",
       "      <td>2</td>\n",
       "    </tr>\n",
       "    <tr>\n",
       "      <th>2</th>\n",
       "      <td>3</td>\n",
       "      <td>3</td>\n",
       "      <td>1</td>\n",
       "    </tr>\n",
       "    <tr>\n",
       "      <th>3</th>\n",
       "      <td>4</td>\n",
       "      <td>3</td>\n",
       "      <td>1</td>\n",
       "    </tr>\n",
       "    <tr>\n",
       "      <th>4</th>\n",
       "      <td>5</td>\n",
       "      <td>3</td>\n",
       "      <td>2</td>\n",
       "    </tr>\n",
       "    <tr>\n",
       "      <th>5</th>\n",
       "      <td>6</td>\n",
       "      <td>3</td>\n",
       "      <td>2</td>\n",
       "    </tr>\n",
       "    <tr>\n",
       "      <th>6</th>\n",
       "      <td>7</td>\n",
       "      <td>4</td>\n",
       "      <td>1</td>\n",
       "    </tr>\n",
       "    <tr>\n",
       "      <th>7</th>\n",
       "      <td>8</td>\n",
       "      <td>4</td>\n",
       "      <td>2</td>\n",
       "    </tr>\n",
       "    <tr>\n",
       "      <th>8</th>\n",
       "      <td>9</td>\n",
       "      <td>4</td>\n",
       "      <td>3</td>\n",
       "    </tr>\n",
       "    <tr>\n",
       "      <th>9</th>\n",
       "      <td>10</td>\n",
       "      <td>5</td>\n",
       "      <td>1</td>\n",
       "    </tr>\n",
       "    <tr>\n",
       "      <th>10</th>\n",
       "      <td>11</td>\n",
       "      <td>5</td>\n",
       "      <td>1</td>\n",
       "    </tr>\n",
       "    <tr>\n",
       "      <th>11</th>\n",
       "      <td>12</td>\n",
       "      <td>5</td>\n",
       "      <td>3</td>\n",
       "    </tr>\n",
       "    <tr>\n",
       "      <th>12</th>\n",
       "      <td>13</td>\n",
       "      <td>5</td>\n",
       "      <td>3</td>\n",
       "    </tr>\n",
       "    <tr>\n",
       "      <th>13</th>\n",
       "      <td>14</td>\n",
       "      <td>5</td>\n",
       "      <td>4</td>\n",
       "    </tr>\n",
       "    <tr>\n",
       "      <th>14</th>\n",
       "      <td>15</td>\n",
       "      <td>5</td>\n",
       "      <td>4</td>\n",
       "    </tr>\n",
       "    <tr>\n",
       "      <th>15</th>\n",
       "      <td>16</td>\n",
       "      <td>6</td>\n",
       "      <td>1</td>\n",
       "    </tr>\n",
       "  </tbody>\n",
       "</table>\n",
       "</div>"
      ],
      "text/plain": [
       "    Row_ID  Household_ID  Vehicle\n",
       "0        1             1        3\n",
       "1        2             2        2\n",
       "2        3             3        1\n",
       "3        4             3        1\n",
       "4        5             3        2\n",
       "5        6             3        2\n",
       "6        7             4        1\n",
       "7        8             4        2\n",
       "8        9             4        3\n",
       "9       10             5        1\n",
       "10      11             5        1\n",
       "11      12             5        3\n",
       "12      13             5        3\n",
       "13      14             5        4\n",
       "14      15             5        4\n",
       "15      16             6        1"
      ]
     },
     "execution_count": 81,
     "metadata": {},
     "output_type": "execute_result"
    }
   ],
   "source": [
    "train_data[['Row_ID', 'Household_ID', 'Vehicle']].head(16)"
   ]
  },
  {
   "cell_type": "code",
   "execution_count": 83,
   "metadata": {},
   "outputs": [
    {
     "data": {
      "text/html": [
       "<div>\n",
       "<style scoped>\n",
       "    .dataframe tbody tr th:only-of-type {\n",
       "        vertical-align: middle;\n",
       "    }\n",
       "\n",
       "    .dataframe tbody tr th {\n",
       "        vertical-align: top;\n",
       "    }\n",
       "\n",
       "    .dataframe thead th {\n",
       "        text-align: right;\n",
       "    }\n",
       "</style>\n",
       "<table border=\"1\" class=\"dataframe\">\n",
       "  <thead>\n",
       "    <tr style=\"text-align: right;\">\n",
       "      <th></th>\n",
       "      <th>Row_ID</th>\n",
       "      <th>Household_ID</th>\n",
       "      <th>Vehicle</th>\n",
       "      <th>Calendar_Year</th>\n",
       "      <th>Model_Year</th>\n",
       "      <th>Blind_Make</th>\n",
       "      <th>Blind_Model</th>\n",
       "      <th>Blind_Submodel</th>\n",
       "      <th>Cat1</th>\n",
       "      <th>Cat2</th>\n",
       "      <th>...</th>\n",
       "      <th>Var5</th>\n",
       "      <th>Var6</th>\n",
       "      <th>Var7</th>\n",
       "      <th>Var8</th>\n",
       "      <th>NVCat</th>\n",
       "      <th>NVVar1</th>\n",
       "      <th>NVVar2</th>\n",
       "      <th>NVVar3</th>\n",
       "      <th>NVVar4</th>\n",
       "      <th>Claim_Amount</th>\n",
       "    </tr>\n",
       "  </thead>\n",
       "  <tbody>\n",
       "    <tr>\n",
       "      <th>9</th>\n",
       "      <td>10</td>\n",
       "      <td>5</td>\n",
       "      <td>1</td>\n",
       "      <td>2005</td>\n",
       "      <td>1995</td>\n",
       "      <td>BW</td>\n",
       "      <td>BW.3</td>\n",
       "      <td>BW.3.0</td>\n",
       "      <td>D</td>\n",
       "      <td>?</td>\n",
       "      <td>...</td>\n",
       "      <td>0.176312</td>\n",
       "      <td>0.283264</td>\n",
       "      <td>0.969232</td>\n",
       "      <td>-0.792339</td>\n",
       "      <td>N</td>\n",
       "      <td>2.054683</td>\n",
       "      <td>-0.266117</td>\n",
       "      <td>-0.272337</td>\n",
       "      <td>-0.251419</td>\n",
       "      <td>0.0</td>\n",
       "    </tr>\n",
       "    <tr>\n",
       "      <th>10</th>\n",
       "      <td>11</td>\n",
       "      <td>5</td>\n",
       "      <td>1</td>\n",
       "      <td>2006</td>\n",
       "      <td>1995</td>\n",
       "      <td>BW</td>\n",
       "      <td>BW.3</td>\n",
       "      <td>BW.3.0</td>\n",
       "      <td>D</td>\n",
       "      <td>?</td>\n",
       "      <td>...</td>\n",
       "      <td>0.176312</td>\n",
       "      <td>0.283264</td>\n",
       "      <td>0.969232</td>\n",
       "      <td>-0.792339</td>\n",
       "      <td>N</td>\n",
       "      <td>-0.231530</td>\n",
       "      <td>-0.266117</td>\n",
       "      <td>-0.272337</td>\n",
       "      <td>-0.251419</td>\n",
       "      <td>0.0</td>\n",
       "    </tr>\n",
       "    <tr>\n",
       "      <th>11</th>\n",
       "      <td>12</td>\n",
       "      <td>5</td>\n",
       "      <td>3</td>\n",
       "      <td>2005</td>\n",
       "      <td>2003</td>\n",
       "      <td>BW</td>\n",
       "      <td>BW.167</td>\n",
       "      <td>BW.167.0</td>\n",
       "      <td>I</td>\n",
       "      <td>C</td>\n",
       "      <td>...</td>\n",
       "      <td>0.342832</td>\n",
       "      <td>1.451805</td>\n",
       "      <td>1.694201</td>\n",
       "      <td>1.242493</td>\n",
       "      <td>N</td>\n",
       "      <td>2.054683</td>\n",
       "      <td>-0.266117</td>\n",
       "      <td>-0.272337</td>\n",
       "      <td>-0.251419</td>\n",
       "      <td>0.0</td>\n",
       "    </tr>\n",
       "    <tr>\n",
       "      <th>12</th>\n",
       "      <td>13</td>\n",
       "      <td>5</td>\n",
       "      <td>3</td>\n",
       "      <td>2006</td>\n",
       "      <td>2003</td>\n",
       "      <td>BW</td>\n",
       "      <td>BW.167</td>\n",
       "      <td>BW.167.0</td>\n",
       "      <td>I</td>\n",
       "      <td>C</td>\n",
       "      <td>...</td>\n",
       "      <td>0.342832</td>\n",
       "      <td>1.451805</td>\n",
       "      <td>1.694201</td>\n",
       "      <td>1.242493</td>\n",
       "      <td>N</td>\n",
       "      <td>-0.231530</td>\n",
       "      <td>-0.266117</td>\n",
       "      <td>-0.272337</td>\n",
       "      <td>-0.251419</td>\n",
       "      <td>0.0</td>\n",
       "    </tr>\n",
       "    <tr>\n",
       "      <th>13</th>\n",
       "      <td>14</td>\n",
       "      <td>5</td>\n",
       "      <td>4</td>\n",
       "      <td>2005</td>\n",
       "      <td>2004</td>\n",
       "      <td>Y</td>\n",
       "      <td>Y.9</td>\n",
       "      <td>Y.9.0</td>\n",
       "      <td>F</td>\n",
       "      <td>C</td>\n",
       "      <td>...</td>\n",
       "      <td>-0.608711</td>\n",
       "      <td>-1.134425</td>\n",
       "      <td>-1.193388</td>\n",
       "      <td>-0.732172</td>\n",
       "      <td>N</td>\n",
       "      <td>2.054683</td>\n",
       "      <td>-0.266117</td>\n",
       "      <td>-0.272337</td>\n",
       "      <td>-0.251419</td>\n",
       "      <td>0.0</td>\n",
       "    </tr>\n",
       "    <tr>\n",
       "      <th>14</th>\n",
       "      <td>15</td>\n",
       "      <td>5</td>\n",
       "      <td>4</td>\n",
       "      <td>2006</td>\n",
       "      <td>2004</td>\n",
       "      <td>Y</td>\n",
       "      <td>Y.9</td>\n",
       "      <td>Y.9.0</td>\n",
       "      <td>F</td>\n",
       "      <td>C</td>\n",
       "      <td>...</td>\n",
       "      <td>-0.608711</td>\n",
       "      <td>-1.134425</td>\n",
       "      <td>-1.193388</td>\n",
       "      <td>-0.732172</td>\n",
       "      <td>N</td>\n",
       "      <td>-0.231530</td>\n",
       "      <td>-0.266117</td>\n",
       "      <td>-0.272337</td>\n",
       "      <td>-0.251419</td>\n",
       "      <td>0.0</td>\n",
       "    </tr>\n",
       "  </tbody>\n",
       "</table>\n",
       "<p>6 rows × 35 columns</p>\n",
       "</div>"
      ],
      "text/plain": [
       "    Row_ID  Household_ID  Vehicle  Calendar_Year  Model_Year Blind_Make  \\\n",
       "9       10             5        1           2005        1995         BW   \n",
       "10      11             5        1           2006        1995         BW   \n",
       "11      12             5        3           2005        2003         BW   \n",
       "12      13             5        3           2006        2003         BW   \n",
       "13      14             5        4           2005        2004          Y   \n",
       "14      15             5        4           2006        2004          Y   \n",
       "\n",
       "   Blind_Model Blind_Submodel Cat1 Cat2  ...      Var5      Var6      Var7  \\\n",
       "9         BW.3         BW.3.0    D    ?  ...  0.176312  0.283264  0.969232   \n",
       "10        BW.3         BW.3.0    D    ?  ...  0.176312  0.283264  0.969232   \n",
       "11      BW.167       BW.167.0    I    C  ...  0.342832  1.451805  1.694201   \n",
       "12      BW.167       BW.167.0    I    C  ...  0.342832  1.451805  1.694201   \n",
       "13         Y.9          Y.9.0    F    C  ... -0.608711 -1.134425 -1.193388   \n",
       "14         Y.9          Y.9.0    F    C  ... -0.608711 -1.134425 -1.193388   \n",
       "\n",
       "        Var8 NVCat    NVVar1    NVVar2    NVVar3    NVVar4 Claim_Amount  \n",
       "9  -0.792339     N  2.054683 -0.266117 -0.272337 -0.251419          0.0  \n",
       "10 -0.792339     N -0.231530 -0.266117 -0.272337 -0.251419          0.0  \n",
       "11  1.242493     N  2.054683 -0.266117 -0.272337 -0.251419          0.0  \n",
       "12  1.242493     N -0.231530 -0.266117 -0.272337 -0.251419          0.0  \n",
       "13 -0.732172     N  2.054683 -0.266117 -0.272337 -0.251419          0.0  \n",
       "14 -0.732172     N -0.231530 -0.266117 -0.272337 -0.251419          0.0  \n",
       "\n",
       "[6 rows x 35 columns]"
      ]
     },
     "execution_count": 83,
     "metadata": {},
     "output_type": "execute_result"
    }
   ],
   "source": [
    "train_data[train_data['Household_ID']==5]"
   ]
  },
  {
   "cell_type": "code",
   "execution_count": 19,
   "metadata": {},
   "outputs": [
    {
     "data": {
      "text/plain": [
       "array([2005, 2006, 2007], dtype=int64)"
      ]
     },
     "execution_count": 19,
     "metadata": {},
     "output_type": "execute_result"
    }
   ],
   "source": [
    "train_data['Calendar_Year'].unique()"
   ]
  },
  {
   "cell_type": "code",
   "execution_count": 27,
   "metadata": {},
   "outputs": [
    {
     "name": "stdout",
     "output_type": "stream",
     "text": [
      "29\n"
     ]
    },
    {
     "data": {
      "text/plain": [
       "array([1981, 1982, 1983, 1984, 1985, 1986, 1987, 1988, 1989, 1990, 1991,\n",
       "       1992, 1993, 1994, 1995, 1996, 1997, 1998, 1999, 2000, 2001, 2002,\n",
       "       2003, 2004, 2005, 2006, 2007, 2008, 2009], dtype=int64)"
      ]
     },
     "execution_count": 27,
     "metadata": {},
     "output_type": "execute_result"
    }
   ],
   "source": [
    "print(train_data['Model_Year'].nunique())\n",
    "np.sort(train_data['Model_Year'].unique())"
   ]
  },
  {
   "cell_type": "code",
   "execution_count": 30,
   "metadata": {},
   "outputs": [
    {
     "name": "stdout",
     "output_type": "stream",
     "text": [
      "75\n"
     ]
    },
    {
     "data": {
      "text/plain": [
       "array(['?', 'A', 'AB', 'AC', 'AD', 'AE', 'AF', 'AG', 'AH', 'AI', 'AJ',\n",
       "       'AK', 'AL', 'AM', 'AN', 'AO', 'AP', 'AQ', 'AR', 'AS', 'AT', 'AU',\n",
       "       'AV', 'AW', 'AX', 'AY', 'AZ', 'B', 'BA', 'BB', 'BC', 'BD', 'BF',\n",
       "       'BG', 'BH', 'BK', 'BL', 'BM', 'BN', 'BO', 'BP', 'BQ', 'BR', 'BS',\n",
       "       'BT', 'BU', 'BV', 'BW', 'BY', 'BZ', 'C', 'CA', 'CB', 'D', 'E', 'F',\n",
       "       'G', 'H', 'I', 'J', 'K', 'L', 'M', 'N', 'O', 'P', 'Q', 'R', 'S',\n",
       "       'U', 'V', 'W', 'X', 'Y', 'Z'], dtype=object)"
      ]
     },
     "execution_count": 30,
     "metadata": {},
     "output_type": "execute_result"
    }
   ],
   "source": [
    "print(train_data['Blind_Make'].nunique())\n",
    "np.sort(train_data['Blind_Make'].unique())"
   ]
  },
  {
   "cell_type": "code",
   "execution_count": 29,
   "metadata": {},
   "outputs": [
    {
     "name": "stdout",
     "output_type": "stream",
     "text": [
      "1303\n"
     ]
    },
    {
     "data": {
      "text/plain": [
       "array(['?', 'A.2', 'A.3', ..., 'Z.45', 'Z.5', 'Z.8'], dtype=object)"
      ]
     },
     "execution_count": 29,
     "metadata": {},
     "output_type": "execute_result"
    }
   ],
   "source": [
    "print(train_data['Blind_Model'].nunique())\n",
    "np.sort(train_data['Blind_Model'].unique())"
   ]
  },
  {
   "cell_type": "code",
   "execution_count": 31,
   "metadata": {},
   "outputs": [
    {
     "name": "stdout",
     "output_type": "stream",
     "text": [
      "2740\n"
     ]
    },
    {
     "data": {
      "text/plain": [
       "array(['?', 'A.2.0', 'A.3.0', ..., 'Z.45.0', 'Z.5.0', 'Z.8.0'],\n",
       "      dtype=object)"
      ]
     },
     "execution_count": 31,
     "metadata": {},
     "output_type": "execute_result"
    }
   ],
   "source": [
    "print(train_data['Blind_Submodel'].nunique())\n",
    "np.sort(train_data['Blind_Submodel'].unique())"
   ]
  },
  {
   "cell_type": "code",
   "execution_count": 32,
   "metadata": {},
   "outputs": [
    {
     "name": "stdout",
     "output_type": "stream",
     "text": [
      "11\n"
     ]
    },
    {
     "data": {
      "text/plain": [
       "array(['?', 'A', 'B', 'C', 'D', 'E', 'F', 'G', 'H', 'I', 'J'],\n",
       "      dtype=object)"
      ]
     },
     "execution_count": 32,
     "metadata": {},
     "output_type": "execute_result"
    }
   ],
   "source": [
    "print(train_data['Cat1'].nunique())\n",
    "np.sort(train_data['Cat1'].unique())"
   ]
  },
  {
   "cell_type": "code",
   "execution_count": 35,
   "metadata": {},
   "outputs": [
    {
     "name": "stdout",
     "output_type": "stream",
     "text": [
      "15\n"
     ]
    },
    {
     "data": {
      "text/plain": [
       "array(['4', '5', '2', '6', '3', '?', '1', '7', 4, 2, 5, 3, 1, 6, 7],\n",
       "      dtype=object)"
      ]
     },
     "execution_count": 35,
     "metadata": {},
     "output_type": "execute_result"
    }
   ],
   "source": [
    "print(train_data['OrdCat'].nunique())\n",
    "train_data['OrdCat'].unique()"
   ]
  },
  {
   "cell_type": "code",
   "execution_count": 38,
   "metadata": {},
   "outputs": [
    {
     "name": "stdout",
     "output_type": "stream",
     "text": [
      "360\n"
     ]
    },
    {
     "data": {
      "text/plain": [
       "array([-0.7542818, -0.6337572, -0.3766379,  0.017076 ,  0.2179505,\n",
       "        0.3224052,  0.4429298,  0.5634545,  0.7000491,  1.2705325])"
      ]
     },
     "execution_count": 38,
     "metadata": {},
     "output_type": "execute_result"
    }
   ],
   "source": [
    "print(train_data['Var1'].nunique())\n",
    "np.sort(train_data['Var1'].unique()[:10])"
   ]
  },
  {
   "cell_type": "code",
   "execution_count": 40,
   "metadata": {},
   "outputs": [
    {
     "name": "stdout",
     "output_type": "stream",
     "text": [
      "15\n"
     ]
    },
    {
     "data": {
      "text/plain": [
       "array(['M', 'O', 'F', 'N', 'J', 'L', 'B', 'H', 'A', 'G', 'K', 'I', 'E',\n",
       "       'C', 'D'], dtype=object)"
      ]
     },
     "execution_count": 40,
     "metadata": {},
     "output_type": "execute_result"
    }
   ],
   "source": [
    "print(train_data['NVCat'].nunique())\n",
    "train_data['NVCat'].unique()"
   ]
  },
  {
   "cell_type": "code",
   "execution_count": 41,
   "metadata": {},
   "outputs": [
    {
     "name": "stdout",
     "output_type": "stream",
     "text": [
      "29\n"
     ]
    },
    {
     "data": {
      "text/plain": [
       "array([-0.2315299,  2.0546834,  1.4831301,  3.1977899,  2.5119259,\n",
       "        1.1401981,  0.9115767,  4.3408966,  6.62711  ,  1.7280815,\n",
       "        0.7482758,  0.6258001,  2.7078872,  3.8836539,  5.2553821,\n",
       "        4.9124498,  0.4543341,  3.6876929,  1.2926123,  4.05512  ,\n",
       "        2.3404601,  0.5305412,  0.6829554,  1.8260621,  1.6390083,\n",
       "        0.3400235,  5.4840031,  1.0154955,  2.8167543])"
      ]
     },
     "execution_count": 41,
     "metadata": {},
     "output_type": "execute_result"
    }
   ],
   "source": [
    "print(train_data['NVVar1'].nunique())\n",
    "train_data['NVVar1'].unique()"
   ]
  },
  {
   "cell_type": "code",
   "execution_count": null,
   "metadata": {},
   "outputs": [],
   "source": [
    "sns.heatmap(train_data.corr())"
   ]
  },
  {
   "cell_type": "code",
   "execution_count": 109,
   "metadata": {},
   "outputs": [
    {
     "data": {
      "text/plain": [
       "Cat1\n",
       "?    0.793362\n",
       "A    1.196787\n",
       "B    1.475656\n",
       "C    1.289835\n",
       "D    1.313834\n",
       "E    1.149625\n",
       "F    1.425081\n",
       "G    1.264641\n",
       "H    1.269609\n",
       "I    1.336931\n",
       "J    1.178263\n",
       "Name: Claim_Amount, dtype: float64"
      ]
     },
     "execution_count": 109,
     "metadata": {},
     "output_type": "execute_result"
    }
   ],
   "source": [
    "train_data.groupby(by='Cat1')['Claim_Amount'].mean()"
   ]
  },
  {
   "cell_type": "code",
   "execution_count": 117,
   "metadata": {},
   "outputs": [
    {
     "data": {
      "text/plain": [
       "'int64'"
      ]
     },
     "execution_count": 117,
     "metadata": {},
     "output_type": "execute_result"
    }
   ],
   "source": [
    "train_data['Vehicle'].dtype.name"
   ]
  },
  {
   "cell_type": "code",
   "execution_count": 144,
   "metadata": {},
   "outputs": [
    {
     "data": {
      "text/html": [
       "<div>\n",
       "<style scoped>\n",
       "    .dataframe tbody tr th:only-of-type {\n",
       "        vertical-align: middle;\n",
       "    }\n",
       "\n",
       "    .dataframe tbody tr th {\n",
       "        vertical-align: top;\n",
       "    }\n",
       "\n",
       "    .dataframe thead th {\n",
       "        text-align: right;\n",
       "    }\n",
       "</style>\n",
       "<table border=\"1\" class=\"dataframe\">\n",
       "  <thead>\n",
       "    <tr style=\"text-align: right;\">\n",
       "      <th></th>\n",
       "      <th>Blind_Make</th>\n",
       "      <th>Blind_Model</th>\n",
       "      <th>Blind_Submodel</th>\n",
       "      <th>Cat1</th>\n",
       "      <th>Cat2</th>\n",
       "      <th>Cat3</th>\n",
       "      <th>Cat4</th>\n",
       "      <th>Cat5</th>\n",
       "      <th>Cat6</th>\n",
       "      <th>Cat7</th>\n",
       "      <th>Cat8</th>\n",
       "      <th>Cat9</th>\n",
       "      <th>Cat10</th>\n",
       "      <th>Cat11</th>\n",
       "      <th>Cat12</th>\n",
       "      <th>OrdCat</th>\n",
       "      <th>NVCat</th>\n",
       "    </tr>\n",
       "  </thead>\n",
       "  <tbody>\n",
       "    <tr>\n",
       "      <th>0</th>\n",
       "      <td>K</td>\n",
       "      <td>K.78</td>\n",
       "      <td>K.78.2</td>\n",
       "      <td>D</td>\n",
       "      <td>C</td>\n",
       "      <td>F</td>\n",
       "      <td>?</td>\n",
       "      <td>?</td>\n",
       "      <td>C</td>\n",
       "      <td>?</td>\n",
       "      <td>C</td>\n",
       "      <td>A</td>\n",
       "      <td>B</td>\n",
       "      <td>F</td>\n",
       "      <td>D</td>\n",
       "      <td>4</td>\n",
       "      <td>M</td>\n",
       "    </tr>\n",
       "    <tr>\n",
       "      <th>1</th>\n",
       "      <td>Q</td>\n",
       "      <td>Q.22</td>\n",
       "      <td>Q.22.3</td>\n",
       "      <td>B</td>\n",
       "      <td>C</td>\n",
       "      <td>A</td>\n",
       "      <td>A</td>\n",
       "      <td>A</td>\n",
       "      <td>E</td>\n",
       "      <td>C</td>\n",
       "      <td>A</td>\n",
       "      <td>B</td>\n",
       "      <td>A</td>\n",
       "      <td>B</td>\n",
       "      <td>D</td>\n",
       "      <td>5</td>\n",
       "      <td>O</td>\n",
       "    </tr>\n",
       "    <tr>\n",
       "      <th>2</th>\n",
       "      <td>AR</td>\n",
       "      <td>AR.41</td>\n",
       "      <td>AR.41.1</td>\n",
       "      <td>B</td>\n",
       "      <td>?</td>\n",
       "      <td>A</td>\n",
       "      <td>A</td>\n",
       "      <td>A</td>\n",
       "      <td>C</td>\n",
       "      <td>C</td>\n",
       "      <td>A</td>\n",
       "      <td>B</td>\n",
       "      <td>A</td>\n",
       "      <td>E</td>\n",
       "      <td>D</td>\n",
       "      <td>2</td>\n",
       "      <td>F</td>\n",
       "    </tr>\n",
       "    <tr>\n",
       "      <th>3</th>\n",
       "      <td>AR</td>\n",
       "      <td>AR.41</td>\n",
       "      <td>AR.41.1</td>\n",
       "      <td>B</td>\n",
       "      <td>?</td>\n",
       "      <td>A</td>\n",
       "      <td>A</td>\n",
       "      <td>A</td>\n",
       "      <td>C</td>\n",
       "      <td>C</td>\n",
       "      <td>A</td>\n",
       "      <td>B</td>\n",
       "      <td>B</td>\n",
       "      <td>B</td>\n",
       "      <td>B</td>\n",
       "      <td>2</td>\n",
       "      <td>F</td>\n",
       "    </tr>\n",
       "    <tr>\n",
       "      <th>4</th>\n",
       "      <td>D</td>\n",
       "      <td>D.20</td>\n",
       "      <td>D.20.0</td>\n",
       "      <td>J</td>\n",
       "      <td>C</td>\n",
       "      <td>B</td>\n",
       "      <td>?</td>\n",
       "      <td>?</td>\n",
       "      <td>D</td>\n",
       "      <td>?</td>\n",
       "      <td>A</td>\n",
       "      <td>B</td>\n",
       "      <td>A</td>\n",
       "      <td>B</td>\n",
       "      <td>B</td>\n",
       "      <td>5</td>\n",
       "      <td>F</td>\n",
       "    </tr>\n",
       "    <tr>\n",
       "      <th>...</th>\n",
       "      <td>...</td>\n",
       "      <td>...</td>\n",
       "      <td>...</td>\n",
       "      <td>...</td>\n",
       "      <td>...</td>\n",
       "      <td>...</td>\n",
       "      <td>...</td>\n",
       "      <td>...</td>\n",
       "      <td>...</td>\n",
       "      <td>...</td>\n",
       "      <td>...</td>\n",
       "      <td>...</td>\n",
       "      <td>...</td>\n",
       "      <td>...</td>\n",
       "      <td>...</td>\n",
       "      <td>...</td>\n",
       "      <td>...</td>\n",
       "    </tr>\n",
       "    <tr>\n",
       "      <th>13184285</th>\n",
       "      <td>BW</td>\n",
       "      <td>BW.156</td>\n",
       "      <td>BW.156.0</td>\n",
       "      <td>I</td>\n",
       "      <td>?</td>\n",
       "      <td>C</td>\n",
       "      <td>?</td>\n",
       "      <td>?</td>\n",
       "      <td>E</td>\n",
       "      <td>?</td>\n",
       "      <td>A</td>\n",
       "      <td>B</td>\n",
       "      <td>A</td>\n",
       "      <td>B</td>\n",
       "      <td>E</td>\n",
       "      <td>5</td>\n",
       "      <td>M</td>\n",
       "    </tr>\n",
       "    <tr>\n",
       "      <th>13184286</th>\n",
       "      <td>AJ</td>\n",
       "      <td>AJ.123</td>\n",
       "      <td>AJ.123.3</td>\n",
       "      <td>D</td>\n",
       "      <td>?</td>\n",
       "      <td>C</td>\n",
       "      <td>?</td>\n",
       "      <td>?</td>\n",
       "      <td>C</td>\n",
       "      <td>?</td>\n",
       "      <td>A</td>\n",
       "      <td>B</td>\n",
       "      <td>C</td>\n",
       "      <td>A</td>\n",
       "      <td>C</td>\n",
       "      <td>4</td>\n",
       "      <td>M</td>\n",
       "    </tr>\n",
       "    <tr>\n",
       "      <th>13184287</th>\n",
       "      <td>X</td>\n",
       "      <td>X.52</td>\n",
       "      <td>X.52.1</td>\n",
       "      <td>B</td>\n",
       "      <td>?</td>\n",
       "      <td>D</td>\n",
       "      <td>A</td>\n",
       "      <td>A</td>\n",
       "      <td>C</td>\n",
       "      <td>C</td>\n",
       "      <td>A</td>\n",
       "      <td>B</td>\n",
       "      <td>A</td>\n",
       "      <td>B</td>\n",
       "      <td>B</td>\n",
       "      <td>2</td>\n",
       "      <td>E</td>\n",
       "    </tr>\n",
       "    <tr>\n",
       "      <th>13184288</th>\n",
       "      <td>W</td>\n",
       "      <td>W.4</td>\n",
       "      <td>W.4.6</td>\n",
       "      <td>I</td>\n",
       "      <td>?</td>\n",
       "      <td>A</td>\n",
       "      <td>?</td>\n",
       "      <td>?</td>\n",
       "      <td>C</td>\n",
       "      <td>?</td>\n",
       "      <td>A</td>\n",
       "      <td>B</td>\n",
       "      <td>B</td>\n",
       "      <td>A</td>\n",
       "      <td>D</td>\n",
       "      <td>4</td>\n",
       "      <td>E</td>\n",
       "    </tr>\n",
       "    <tr>\n",
       "      <th>13184289</th>\n",
       "      <td>M</td>\n",
       "      <td>M.13</td>\n",
       "      <td>M.13.2</td>\n",
       "      <td>F</td>\n",
       "      <td>?</td>\n",
       "      <td>A</td>\n",
       "      <td>C</td>\n",
       "      <td>A</td>\n",
       "      <td>C</td>\n",
       "      <td>?</td>\n",
       "      <td>A</td>\n",
       "      <td>B</td>\n",
       "      <td>B</td>\n",
       "      <td>A</td>\n",
       "      <td>B</td>\n",
       "      <td>2</td>\n",
       "      <td>O</td>\n",
       "    </tr>\n",
       "  </tbody>\n",
       "</table>\n",
       "<p>13184290 rows × 17 columns</p>\n",
       "</div>"
      ],
      "text/plain": [
       "         Blind_Make Blind_Model Blind_Submodel Cat1 Cat2 Cat3 Cat4 Cat5 Cat6  \\\n",
       "0                 K        K.78         K.78.2    D    C    F    ?    ?    C   \n",
       "1                 Q        Q.22         Q.22.3    B    C    A    A    A    E   \n",
       "2                AR       AR.41        AR.41.1    B    ?    A    A    A    C   \n",
       "3                AR       AR.41        AR.41.1    B    ?    A    A    A    C   \n",
       "4                 D        D.20         D.20.0    J    C    B    ?    ?    D   \n",
       "...             ...         ...            ...  ...  ...  ...  ...  ...  ...   \n",
       "13184285         BW      BW.156       BW.156.0    I    ?    C    ?    ?    E   \n",
       "13184286         AJ      AJ.123       AJ.123.3    D    ?    C    ?    ?    C   \n",
       "13184287          X        X.52         X.52.1    B    ?    D    A    A    C   \n",
       "13184288          W         W.4          W.4.6    I    ?    A    ?    ?    C   \n",
       "13184289          M        M.13         M.13.2    F    ?    A    C    A    C   \n",
       "\n",
       "         Cat7 Cat8 Cat9 Cat10 Cat11 Cat12 OrdCat NVCat  \n",
       "0           ?    C    A     B     F     D      4     M  \n",
       "1           C    A    B     A     B     D      5     O  \n",
       "2           C    A    B     A     E     D      2     F  \n",
       "3           C    A    B     B     B     B      2     F  \n",
       "4           ?    A    B     A     B     B      5     F  \n",
       "...       ...  ...  ...   ...   ...   ...    ...   ...  \n",
       "13184285    ?    A    B     A     B     E      5     M  \n",
       "13184286    ?    A    B     C     A     C      4     M  \n",
       "13184287    C    A    B     A     B     B      2     E  \n",
       "13184288    ?    A    B     B     A     D      4     E  \n",
       "13184289    ?    A    B     B     A     B      2     O  \n",
       "\n",
       "[13184290 rows x 17 columns]"
      ]
     },
     "execution_count": 144,
     "metadata": {},
     "output_type": "execute_result"
    }
   ],
   "source": [
    "cat_feats = train_data[train_data.dtypes[train_data.dtypes == 'object'].index]"
   ]
  },
  {
   "cell_type": "code",
   "execution_count": 10,
   "metadata": {},
   "outputs": [
    {
     "data": {
      "text/plain": [
       "<Axes: >"
      ]
     },
     "execution_count": 10,
     "metadata": {},
     "output_type": "execute_result"
    },
    {
     "data": {
      "image/png": "[encoded data removed]",
      "text/plain": [
       "<Figure size 1200x800 with 2 Axes>"
      ]
     },
     "metadata": {},
     "output_type": "display_data"
    }
   ],
   "source": [
    "plt.figure(figsize=(12,8))\n",
    "sns.heatmap(train_data[train_data.dtypes[train_data.dtypes != 'object'].index].corr())"
   ]
  },
  {
   "cell_type": "code",
   "execution_count": 147,
   "metadata": {},
   "outputs": [
    {
     "data": {
      "text/plain": [
       "Row_ID           0.000633\n",
       "Household_ID     0.000582\n",
       "Vehicle          0.000965\n",
       "Calendar_Year   -0.003552\n",
       "Model_Year       0.000172\n",
       "Var1            -0.000859\n",
       "Var2            -0.001338\n",
       "Var3            -0.001142\n",
       "Var4            -0.001201\n",
       "Var5            -0.000186\n",
       "Var6            -0.001316\n",
       "Var7            -0.001424\n",
       "Var8            -0.001558\n",
       "NVVar1           0.000487\n",
       "NVVar2           0.001443\n",
       "NVVar3           0.001943\n",
       "NVVar4           0.000140\n",
       "Claim_Amount     1.000000\n",
       "dtype: float64"
      ]
     },
     "execution_count": 147,
     "metadata": {},
     "output_type": "execute_result"
    }
   ],
   "source": [
    "train_data[train_data.dtypes[train_data.dtypes != 'object'].index].corrwith(train_data['Claim_Amount'])"
   ]
  },
  {
   "cell_type": "code",
   "execution_count": 7,
   "metadata": {},
   "outputs": [
    {
     "data": {
      "text/plain": [
       "95363"
      ]
     },
     "execution_count": 7,
     "metadata": {},
     "output_type": "execute_result"
    }
   ],
   "source": [
    "train_data['Claim_Amount'].nunique()"
   ]
  },
  {
   "cell_type": "code",
   "execution_count": 21,
   "metadata": {},
   "outputs": [
    {
     "data": {
      "text/html": [
       "<div>\n",
       "<style scoped>\n",
       "    .dataframe tbody tr th:only-of-type {\n",
       "        vertical-align: middle;\n",
       "    }\n",
       "\n",
       "    .dataframe tbody tr th {\n",
       "        vertical-align: top;\n",
       "    }\n",
       "\n",
       "    .dataframe thead th {\n",
       "        text-align: right;\n",
       "    }\n",
       "</style>\n",
       "<table border=\"1\" class=\"dataframe\">\n",
       "  <thead>\n",
       "    <tr style=\"text-align: right;\">\n",
       "      <th></th>\n",
       "      <th>Null_Count</th>\n",
       "    </tr>\n",
       "  </thead>\n",
       "  <tbody>\n",
       "    <tr>\n",
       "      <th>Cat12</th>\n",
       "      <td>28882</td>\n",
       "    </tr>\n",
       "  </tbody>\n",
       "</table>\n",
       "</div>"
      ],
      "text/plain": [
       "       Null_Count\n",
       "Cat12       28882"
      ]
     },
     "execution_count": 21,
     "metadata": {},
     "output_type": "execute_result"
    }
   ],
   "source": [
    "null_count = pd.DataFrame(train_data.isnull().sum(), columns=['Null_Count'])\n",
    "null_count[null_count['Null_Count'] > 0]"
   ]
  },
  {
   "cell_type": "code",
   "execution_count": 22,
   "metadata": {},
   "outputs": [
    {
     "name": "stdout",
     "output_type": "stream",
     "text": [
      "Null_Count    0.219064\n",
      "Name: Cat12, dtype: float64 %\n"
     ]
    }
   ],
   "source": [
    "print(null_count[null_count['Null_Count'] > 0].loc['Cat12'] / len(train_data) * 100, \"%\")"
   ]
  },
  {
   "cell_type": "code",
   "execution_count": null,
   "metadata": {},
   "outputs": [],
   "source": []
  }
 ],
 "metadata": {
  "kernelspec": {
   "display_name": "Python 3 (ipykernel)",
   "language": "python",
   "name": "python3"
  },
  "language_info": {
   "codemirror_mode": {
    "name": "ipython",
    "version": 3
   },
   "file_extension": ".py",
   "mimetype": "text/x-python",
   "name": "python",
   "nbconvert_exporter": "python",
   "pygments_lexer": "ipython3",
   "version": "3.11.5"
  }
 },
 "nbformat": 4,
 "nbformat_minor": 2
}
