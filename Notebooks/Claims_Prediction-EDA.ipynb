{
 "cells": [
  {
   "cell_type": "markdown",
   "metadata": {},
   "source": [
    "<span style=\"font-size: 35px;\">Vehicle Insurance Claims Prediction</span>"
   ]
  },
  {
   "cell_type": "markdown",
   "metadata": {},
   "source": [
    "The \"Vehicle Insurance Claims Prediction\" project was part of the \"Allstate Claim Prediction Challenge\" on Kaggle, held on 13-07-2011, with a focus on predicting claims payments. The goal was to develop predictive models to estimate insurance claims payments based on historical data and relevant features, using various machine learning techniques, data preprocessing methods, and feature engineering approaches to improve prediction accuracy."
   ]
  },
  {
   "cell_type": "markdown",
   "metadata": {},
   "source": [
    "<span style=\"font-size: 20px;\">Import necessary libraries:</span>"
   ]
  },
  {
   "cell_type": "code",
   "execution_count": 1,
   "metadata": {},
   "outputs": [],
   "source": [
    "import numpy as np\n",
    "import pandas as pd\n",
    "import matplotlib.pyplot as plt\n",
    "import seaborn as sns\n",
    "import warnings\n",
    "\n",
    "sns.set_style('whitegrid')\n",
    "warnings.filterwarnings('ignore')"
   ]
  },
  {
   "cell_type": "markdown",
   "metadata": {},
   "source": [
    "<span style=\"font-size: 20px;\">Import data:</span>"
   ]
  },
  {
   "cell_type": "markdown",
   "metadata": {},
   "source": [
    "Load the train and test data from CSV files into variables."
   ]
  },
  {
   "cell_type": "code",
   "execution_count": 2,
   "metadata": {},
   "outputs": [],
   "source": [
    "# Import train and test datasets\n",
    "x_train = pd.read_csv(r'D:\\ML_Projects\\Vehicle_Insurance_Claims_Prediction\\train_set.csv')\n",
    "\n",
    "x_test = pd.read_csv(r'D:\\ML_Projects\\Vehicle_Insurance_Claims_Prediction\\test_set.csv')\n",
    "example_entry = pd.read_csv(r'D:\\ML_Projects\\Vehicle_Insurance_Claims_Prediction\\example_entry.csv')\n",
    "x_test = x_test.merge(example_entry, on='Row_ID', how='left')"
   ]
  },
  {
   "cell_type": "code",
   "execution_count": 3,
   "metadata": {},
   "outputs": [],
   "source": [
    "#x_train = x_train.sample(frac=0.01)\n",
    "#x_test = x_test.sample(frac=0.01)"
   ]
  },
  {
   "cell_type": "code",
   "execution_count": 3,
   "metadata": {},
   "outputs": [],
   "source": [
    "# Due to the large size of the dataset, training the model with the full dataset is difficult, so we sample 60% of the data for training.\n",
    "#x_train = x_train.sample(frac=0.60)\n",
    "#x_test = x_test.sample(frac=0.60)\n",
    "\n",
    "#x_train.to_csv(r'D:\\ML_Projects\\Vehicle_Insurance_Claims_Prediction\\models\\x_train_60.csv', index=False)\n",
    "#x_test.to_csv(r'D:\\ML_Projects\\Vehicle_Insurance_Claims_Prediction\\models\\x_test_60.csv', index=False)\n",
    "\n",
    "#x_train = pd.read_csv(r'D:\\ML_Projects\\Vehicle_Insurance_Claims_Prediction\\models\\x_train_60.csv')\n",
    "#x_train = x_train.sample(frac=1)\n",
    "#x_test = pd.read_csv(r'D:\\ML_Projects\\Vehicle_Insurance_Claims_Prediction\\models\\x_test_60.csv')"
   ]
  },
  {
   "cell_type": "markdown",
   "metadata": {},
   "source": [
    "<span style=\"font-size: 25px;\">Exploratory Data Analysis:</span>"
   ]
  },
  {
   "cell_type": "markdown",
   "metadata": {},
   "source": [
    "Let us review the size of the train and test datasets."
   ]
  },
  {
   "cell_type": "code",
   "execution_count": 3,
   "metadata": {},
   "outputs": [
    {
     "name": "stdout",
     "output_type": "stream",
     "text": [
      "Number of training samples:  13,184,290\n",
      "Number of test samples:  4,314,865\n",
      "Train % :  75.3 %\n",
      "Test %  :  24.7 %\n"
     ]
    }
   ],
   "source": [
    "# Print the number of training samples, test samples, and the percentage split between training and test data.\n",
    "print('Number of training samples: ', format(len(x_train),','))\n",
    "print('Number of test samples: ', format(len(x_test), ','))\n",
    "print('Train % : ', round(len(x_train) / (len(x_train) + len(x_test)), 3)*100,'%')\n",
    "print('Test %  : ', round(len(x_test) / (len(x_train) + len(x_test)), 3)*100, '%')"
   ]
  },
  {
   "cell_type": "markdown",
   "metadata": {},
   "source": [
    "\n",
    "We have nearly 17.5 million data points, including both training and testing samples. This quantity is ideal for conducting extensive hyperparameter tuning and optimization."
   ]
  },
  {
   "cell_type": "markdown",
   "metadata": {},
   "source": [
    "Let us review the features in the dataset."
   ]
  },
  {
   "cell_type": "code",
   "execution_count": 4,
   "metadata": {},
   "outputs": [
    {
     "name": "stdout",
     "output_type": "stream",
     "text": [
      "Features in training data: \n",
      " Index(['Row_ID', 'Household_ID', 'Vehicle', 'Calendar_Year', 'Model_Year',\n",
      "       'Blind_Make', 'Blind_Model', 'Blind_Submodel', 'Cat1', 'Cat2', 'Cat3',\n",
      "       'Cat4', 'Cat5', 'Cat6', 'Cat7', 'Cat8', 'Cat9', 'Cat10', 'Cat11',\n",
      "       'Cat12', 'OrdCat', 'Var1', 'Var2', 'Var3', 'Var4', 'Var5', 'Var6',\n",
      "       'Var7', 'Var8', 'NVCat', 'NVVar1', 'NVVar2', 'NVVar3', 'NVVar4',\n",
      "       'Claim_Amount'],\n",
      "      dtype='object')\n"
     ]
    }
   ],
   "source": [
    "# Print the column names of the training data\n",
    "print('Features in training data: \\n', x_train.columns)\n",
    "print('Number of features: ', len(x_train.columns)-1)"
   ]
  },
  {
   "cell_type": "markdown",
   "metadata": {},
   "source": [
    "There are 34 features in the dataset. Based on the feature names we can categorize the features in some ways."
   ]
  },
  {
   "cell_type": "markdown",
   "metadata": {},
   "source": [
    "Let us review the first few rows of data for specific standalone features."
   ]
  },
  {
   "cell_type": "code",
   "execution_count": 5,
   "metadata": {},
   "outputs": [
    {
     "data": {
      "text/html": [
       "<div>\n",
       "<style scoped>\n",
       "    .dataframe tbody tr th:only-of-type {\n",
       "        vertical-align: middle;\n",
       "    }\n",
       "\n",
       "    .dataframe tbody tr th {\n",
       "        vertical-align: top;\n",
       "    }\n",
       "\n",
       "    .dataframe thead th {\n",
       "        text-align: right;\n",
       "    }\n",
       "</style>\n",
       "<table border=\"1\" class=\"dataframe\">\n",
       "  <thead>\n",
       "    <tr style=\"text-align: right;\">\n",
       "      <th></th>\n",
       "      <th>Household_ID</th>\n",
       "      <th>Vehicle</th>\n",
       "      <th>Calendar_Year</th>\n",
       "      <th>Model_Year</th>\n",
       "      <th>Blind_Make</th>\n",
       "      <th>Blind_Model</th>\n",
       "      <th>Blind_Submodel</th>\n",
       "    </tr>\n",
       "  </thead>\n",
       "  <tbody>\n",
       "    <tr>\n",
       "      <th>0</th>\n",
       "      <td>1</td>\n",
       "      <td>3</td>\n",
       "      <td>2005</td>\n",
       "      <td>2005</td>\n",
       "      <td>K</td>\n",
       "      <td>K.78</td>\n",
       "      <td>K.78.2</td>\n",
       "    </tr>\n",
       "    <tr>\n",
       "      <th>1</th>\n",
       "      <td>2</td>\n",
       "      <td>2</td>\n",
       "      <td>2005</td>\n",
       "      <td>2003</td>\n",
       "      <td>Q</td>\n",
       "      <td>Q.22</td>\n",
       "      <td>Q.22.3</td>\n",
       "    </tr>\n",
       "    <tr>\n",
       "      <th>2</th>\n",
       "      <td>3</td>\n",
       "      <td>1</td>\n",
       "      <td>2005</td>\n",
       "      <td>1998</td>\n",
       "      <td>AR</td>\n",
       "      <td>AR.41</td>\n",
       "      <td>AR.41.1</td>\n",
       "    </tr>\n",
       "    <tr>\n",
       "      <th>3</th>\n",
       "      <td>3</td>\n",
       "      <td>1</td>\n",
       "      <td>2006</td>\n",
       "      <td>1998</td>\n",
       "      <td>AR</td>\n",
       "      <td>AR.41</td>\n",
       "      <td>AR.41.1</td>\n",
       "    </tr>\n",
       "    <tr>\n",
       "      <th>4</th>\n",
       "      <td>3</td>\n",
       "      <td>2</td>\n",
       "      <td>2005</td>\n",
       "      <td>2001</td>\n",
       "      <td>D</td>\n",
       "      <td>D.20</td>\n",
       "      <td>D.20.0</td>\n",
       "    </tr>\n",
       "  </tbody>\n",
       "</table>\n",
       "</div>"
      ],
      "text/plain": [
       "   Household_ID  Vehicle  Calendar_Year  Model_Year Blind_Make Blind_Model  \\\n",
       "0             1        3           2005        2005          K        K.78   \n",
       "1             2        2           2005        2003          Q        Q.22   \n",
       "2             3        1           2005        1998         AR       AR.41   \n",
       "3             3        1           2006        1998         AR       AR.41   \n",
       "4             3        2           2005        2001          D        D.20   \n",
       "\n",
       "  Blind_Submodel  \n",
       "0         K.78.2  \n",
       "1         Q.22.3  \n",
       "2        AR.41.1  \n",
       "3        AR.41.1  \n",
       "4         D.20.0  "
      ]
     },
     "execution_count": 5,
     "metadata": {},
     "output_type": "execute_result"
    }
   ],
   "source": [
    "# Print the first few rows of data for specific standalone features\n",
    "x_train[['Household_ID', 'Vehicle', 'Calendar_Year', 'Model_Year','Blind_Make', 'Blind_Model', 'Blind_Submodel']].head()"
   ]
  },
  {
   "cell_type": "markdown",
   "metadata": {},
   "source": [
    "The features Household_ID, Vehicle, Calendar_Year and Model_Year are numerical features and the Blind_Make, Blind_Model and Blind_Submodel are categorical features with some sort of relationship in between."
   ]
  },
  {
   "cell_type": "markdown",
   "metadata": {},
   "source": [
    "Let us review the features where the feature name has the word \"Cat\" in it."
   ]
  },
  {
   "cell_type": "code",
   "execution_count": 6,
   "metadata": {},
   "outputs": [
    {
     "data": {
      "text/html": [
       "<div>\n",
       "<style scoped>\n",
       "    .dataframe tbody tr th:only-of-type {\n",
       "        vertical-align: middle;\n",
       "    }\n",
       "\n",
       "    .dataframe tbody tr th {\n",
       "        vertical-align: top;\n",
       "    }\n",
       "\n",
       "    .dataframe thead th {\n",
       "        text-align: right;\n",
       "    }\n",
       "</style>\n",
       "<table border=\"1\" class=\"dataframe\">\n",
       "  <thead>\n",
       "    <tr style=\"text-align: right;\">\n",
       "      <th></th>\n",
       "      <th>Cat1</th>\n",
       "      <th>Cat2</th>\n",
       "      <th>Cat3</th>\n",
       "      <th>Cat4</th>\n",
       "      <th>Cat5</th>\n",
       "      <th>Cat6</th>\n",
       "      <th>Cat7</th>\n",
       "      <th>Cat8</th>\n",
       "      <th>Cat9</th>\n",
       "      <th>Cat10</th>\n",
       "      <th>Cat11</th>\n",
       "      <th>Cat12</th>\n",
       "      <th>OrdCat</th>\n",
       "    </tr>\n",
       "  </thead>\n",
       "  <tbody>\n",
       "    <tr>\n",
       "      <th>0</th>\n",
       "      <td>D</td>\n",
       "      <td>C</td>\n",
       "      <td>F</td>\n",
       "      <td>?</td>\n",
       "      <td>?</td>\n",
       "      <td>C</td>\n",
       "      <td>?</td>\n",
       "      <td>C</td>\n",
       "      <td>A</td>\n",
       "      <td>B</td>\n",
       "      <td>F</td>\n",
       "      <td>D</td>\n",
       "      <td>4</td>\n",
       "    </tr>\n",
       "    <tr>\n",
       "      <th>1</th>\n",
       "      <td>B</td>\n",
       "      <td>C</td>\n",
       "      <td>A</td>\n",
       "      <td>A</td>\n",
       "      <td>A</td>\n",
       "      <td>E</td>\n",
       "      <td>C</td>\n",
       "      <td>A</td>\n",
       "      <td>B</td>\n",
       "      <td>A</td>\n",
       "      <td>B</td>\n",
       "      <td>D</td>\n",
       "      <td>5</td>\n",
       "    </tr>\n",
       "    <tr>\n",
       "      <th>2</th>\n",
       "      <td>B</td>\n",
       "      <td>?</td>\n",
       "      <td>A</td>\n",
       "      <td>A</td>\n",
       "      <td>A</td>\n",
       "      <td>C</td>\n",
       "      <td>C</td>\n",
       "      <td>A</td>\n",
       "      <td>B</td>\n",
       "      <td>A</td>\n",
       "      <td>E</td>\n",
       "      <td>D</td>\n",
       "      <td>2</td>\n",
       "    </tr>\n",
       "    <tr>\n",
       "      <th>3</th>\n",
       "      <td>B</td>\n",
       "      <td>?</td>\n",
       "      <td>A</td>\n",
       "      <td>A</td>\n",
       "      <td>A</td>\n",
       "      <td>C</td>\n",
       "      <td>C</td>\n",
       "      <td>A</td>\n",
       "      <td>B</td>\n",
       "      <td>B</td>\n",
       "      <td>B</td>\n",
       "      <td>B</td>\n",
       "      <td>2</td>\n",
       "    </tr>\n",
       "    <tr>\n",
       "      <th>4</th>\n",
       "      <td>J</td>\n",
       "      <td>C</td>\n",
       "      <td>B</td>\n",
       "      <td>?</td>\n",
       "      <td>?</td>\n",
       "      <td>D</td>\n",
       "      <td>?</td>\n",
       "      <td>A</td>\n",
       "      <td>B</td>\n",
       "      <td>A</td>\n",
       "      <td>B</td>\n",
       "      <td>B</td>\n",
       "      <td>5</td>\n",
       "    </tr>\n",
       "  </tbody>\n",
       "</table>\n",
       "</div>"
      ],
      "text/plain": [
       "  Cat1 Cat2 Cat3 Cat4 Cat5 Cat6 Cat7 Cat8 Cat9 Cat10 Cat11 Cat12 OrdCat\n",
       "0    D    C    F    ?    ?    C    ?    C    A     B     F     D      4\n",
       "1    B    C    A    A    A    E    C    A    B     A     B     D      5\n",
       "2    B    ?    A    A    A    C    C    A    B     A     E     D      2\n",
       "3    B    ?    A    A    A    C    C    A    B     B     B     B      2\n",
       "4    J    C    B    ?    ?    D    ?    A    B     A     B     B      5"
      ]
     },
     "execution_count": 6,
     "metadata": {},
     "output_type": "execute_result"
    }
   ],
   "source": [
    "# Print the first few rows of data for categorical (\"Cat\") features that are similar in nature\n",
    "x_train[['Cat1', 'Cat2', 'Cat3', 'Cat4', 'Cat5', 'Cat6', 'Cat7', 'Cat8', 'Cat9', 'Cat10', 'Cat11', 'Cat12', 'OrdCat']].head()"
   ]
  },
  {
   "cell_type": "markdown",
   "metadata": {},
   "source": [
    "The \"Cat\" features are categorical in nature except the feature OrdCat. Also, some features are having \"?\" in it. It is possibly a missing value and require imputation."
   ]
  },
  {
   "cell_type": "markdown",
   "metadata": {},
   "source": [
    "Let us review the next set of features that has the word \"Var\" in it."
   ]
  },
  {
   "cell_type": "code",
   "execution_count": null,
   "metadata": {},
   "outputs": [
    {
     "data": {
      "text/html": [
       "<div>\n",
       "<style scoped>\n",
       "    .dataframe tbody tr th:only-of-type {\n",
       "        vertical-align: middle;\n",
       "    }\n",
       "\n",
       "    .dataframe tbody tr th {\n",
       "        vertical-align: top;\n",
       "    }\n",
       "\n",
       "    .dataframe thead th {\n",
       "        text-align: right;\n",
       "    }\n",
       "</style>\n",
       "<table border=\"1\" class=\"dataframe\">\n",
       "  <thead>\n",
       "    <tr style=\"text-align: right;\">\n",
       "      <th></th>\n",
       "      <th>Var1</th>\n",
       "      <th>Var2</th>\n",
       "      <th>Var3</th>\n",
       "      <th>Var4</th>\n",
       "      <th>Var5</th>\n",
       "      <th>Var6</th>\n",
       "      <th>Var7</th>\n",
       "      <th>Var8</th>\n",
       "      <th>NVCat</th>\n",
       "      <th>NVVar1</th>\n",
       "      <th>NVVar2</th>\n",
       "      <th>NVVar3</th>\n",
       "      <th>NVVar4</th>\n",
       "    </tr>\n",
       "  </thead>\n",
       "  <tbody>\n",
       "    <tr>\n",
       "      <th>0</th>\n",
       "      <td>1.270533</td>\n",
       "      <td>0.999418</td>\n",
       "      <td>0.588154</td>\n",
       "      <td>0.908351</td>\n",
       "      <td>1.008912</td>\n",
       "      <td>0.261040</td>\n",
       "      <td>0.907793</td>\n",
       "      <td>-0.077998</td>\n",
       "      <td>M</td>\n",
       "      <td>-0.23153</td>\n",
       "      <td>-0.266117</td>\n",
       "      <td>-0.272337</td>\n",
       "      <td>-0.251419</td>\n",
       "    </tr>\n",
       "    <tr>\n",
       "      <th>1</th>\n",
       "      <td>0.217950</td>\n",
       "      <td>0.567140</td>\n",
       "      <td>1.421206</td>\n",
       "      <td>0.485509</td>\n",
       "      <td>1.240851</td>\n",
       "      <td>0.432987</td>\n",
       "      <td>-0.726459</td>\n",
       "      <td>0.204785</td>\n",
       "      <td>O</td>\n",
       "      <td>-0.23153</td>\n",
       "      <td>-0.266117</td>\n",
       "      <td>-0.272337</td>\n",
       "      <td>-0.251419</td>\n",
       "    </tr>\n",
       "    <tr>\n",
       "      <th>2</th>\n",
       "      <td>-0.754282</td>\n",
       "      <td>-1.646127</td>\n",
       "      <td>-1.101091</td>\n",
       "      <td>-1.679445</td>\n",
       "      <td>-0.971487</td>\n",
       "      <td>-1.405797</td>\n",
       "      <td>-0.837048</td>\n",
       "      <td>-1.176858</td>\n",
       "      <td>F</td>\n",
       "      <td>-0.23153</td>\n",
       "      <td>-0.266117</td>\n",
       "      <td>-0.272337</td>\n",
       "      <td>-0.251419</td>\n",
       "    </tr>\n",
       "    <tr>\n",
       "      <th>3</th>\n",
       "      <td>-0.754282</td>\n",
       "      <td>-1.646127</td>\n",
       "      <td>-1.101091</td>\n",
       "      <td>-1.679445</td>\n",
       "      <td>-0.971487</td>\n",
       "      <td>-1.405797</td>\n",
       "      <td>-0.837048</td>\n",
       "      <td>-1.176858</td>\n",
       "      <td>F</td>\n",
       "      <td>-0.23153</td>\n",
       "      <td>-0.266117</td>\n",
       "      <td>-0.272337</td>\n",
       "      <td>-0.251419</td>\n",
       "    </tr>\n",
       "    <tr>\n",
       "      <th>4</th>\n",
       "      <td>0.563454</td>\n",
       "      <td>1.863975</td>\n",
       "      <td>1.814591</td>\n",
       "      <td>1.838605</td>\n",
       "      <td>0.812656</td>\n",
       "      <td>2.112691</td>\n",
       "      <td>1.534462</td>\n",
       "      <td>2.347260</td>\n",
       "      <td>F</td>\n",
       "      <td>-0.23153</td>\n",
       "      <td>-0.266117</td>\n",
       "      <td>-0.272337</td>\n",
       "      <td>-0.251419</td>\n",
       "    </tr>\n",
       "  </tbody>\n",
       "</table>\n",
       "</div>"
      ],
      "text/plain": [
       "       Var1      Var2      Var3      Var4      Var5      Var6      Var7  \\\n",
       "0  1.270533  0.999418  0.588154  0.908351  1.008912  0.261040  0.907793   \n",
       "1  0.217950  0.567140  1.421206  0.485509  1.240851  0.432987 -0.726459   \n",
       "2 -0.754282 -1.646127 -1.101091 -1.679445 -0.971487 -1.405797 -0.837048   \n",
       "3 -0.754282 -1.646127 -1.101091 -1.679445 -0.971487 -1.405797 -0.837048   \n",
       "4  0.563454  1.863975  1.814591  1.838605  0.812656  2.112691  1.534462   \n",
       "\n",
       "       Var8 NVCat   NVVar1    NVVar2    NVVar3    NVVar4  \n",
       "0 -0.077998     M -0.23153 -0.266117 -0.272337 -0.251419  \n",
       "1  0.204785     O -0.23153 -0.266117 -0.272337 -0.251419  \n",
       "2 -1.176858     F -0.23153 -0.266117 -0.272337 -0.251419  \n",
       "3 -1.176858     F -0.23153 -0.266117 -0.272337 -0.251419  \n",
       "4  2.347260     F -0.23153 -0.266117 -0.272337 -0.251419  "
      ]
     },
     "metadata": {},
     "output_type": "display_data"
    }
   ],
   "source": [
    "# Print the first few rows of data for \"Var\" and \"NVVar\" features\n",
    "x_train[['Var1', 'Var2', 'Var3', 'Var4', 'Var5', 'Var6', 'Var7', 'Var8', 'NVCat', 'NVVar1', 'NVVar2', 'NVVar3', 'NVVar4']].head()"
   ]
  },
  {
   "cell_type": "markdown",
   "metadata": {},
   "source": [
    "Upon reviewing we can see that the \"Var\" features are having both +ve and -ve numbers except for the feature \"NVCat\". We can do numerical featurization on these features."
   ]
  },
  {
   "cell_type": "markdown",
   "metadata": {},
   "source": [
    "Let us check which features have \"?\" in them."
   ]
  },
  {
   "cell_type": "code",
   "execution_count": null,
   "metadata": {},
   "outputs": [
    {
     "name": "stdout",
     "output_type": "stream",
     "text": [
      "Blind_Make  :  ['?']\n",
      "Blind_Model  :  ['?' 'A.2' 'A.3' ... 'Z.45' 'Z.5' 'Z.8']\n",
      "Blind_Submodel  :  ['?' 'A.2.0' 'A.3.0' ... 'Z.45.0' 'Z.5.0' 'Z.8.0']\n",
      "Cat1  :  ['?']\n",
      "Cat2  :  ['?']\n",
      "Cat3  :  ['?']\n",
      "Cat4  :  ['?']\n",
      "Cat5  :  ['?']\n",
      "Cat6  :  ['?']\n",
      "Cat7  :  ['?']\n",
      "Cat8  :  ['?']\n",
      "Cat10  :  ['?']\n",
      "Cat11  :  ['?']\n",
      "OrdCat  :  ['?']\n"
     ]
    }
   ],
   "source": [
    "# Selecting non-numeric columns\n",
    "non_num_cols = x_train.select_dtypes(exclude=[np.number]).columns # include=[object]\n",
    "\n",
    "# Iterate through each non-numeric column\n",
    "for col in non_num_cols:\n",
    "    # Filtering non-null and non-alphanumeric values\n",
    "    filtered_indices = x_train[col].notnull() & x_train[col].str.contains('[^a-zA-Z0-9]', regex=True, na=False)\n",
    "    # Extracting unique non-alphanumeric values\n",
    "    unique_values = x_train.loc[filtered_indices, col].sort_values().unique()\n",
    "    # Printing the column name and its unique non-alphanumeric values\n",
    "    if filtered_indices.any():\n",
    "        print(col, \" : \", unique_values)"
   ]
  },
  {
   "cell_type": "markdown",
   "metadata": {},
   "source": [
    "The output above shows that the \"Cat\" features and the make and model features have \"?\" in them. We should employ some imputation mechanisms to replace these \"?\" values."
   ]
  },
  {
   "cell_type": "code",
   "execution_count": 5,
   "metadata": {},
   "outputs": [
    {
     "data": {
      "text/html": [
       "<div>\n",
       "<style scoped>\n",
       "    .dataframe tbody tr th:only-of-type {\n",
       "        vertical-align: middle;\n",
       "    }\n",
       "\n",
       "    .dataframe tbody tr th {\n",
       "        vertical-align: top;\n",
       "    }\n",
       "\n",
       "    .dataframe thead th {\n",
       "        text-align: right;\n",
       "    }\n",
       "</style>\n",
       "<table border=\"1\" class=\"dataframe\">\n",
       "  <thead>\n",
       "    <tr style=\"text-align: right;\">\n",
       "      <th></th>\n",
       "      <th>Feature name</th>\n",
       "      <th>No of \"?\"</th>\n",
       "      <th>Percentage of \"?\"</th>\n",
       "      <th>Percentage of \"mode()\" value other than \"?\"</th>\n",
       "    </tr>\n",
       "  </thead>\n",
       "  <tbody>\n",
       "    <tr>\n",
       "      <th>9</th>\n",
       "      <td>Cat7</td>\n",
       "      <td>7167634</td>\n",
       "      <td>54.3650</td>\n",
       "      <td>0.5436</td>\n",
       "    </tr>\n",
       "    <tr>\n",
       "      <th>7</th>\n",
       "      <td>Cat5</td>\n",
       "      <td>5637321</td>\n",
       "      <td>42.7579</td>\n",
       "      <td>0.5070</td>\n",
       "    </tr>\n",
       "    <tr>\n",
       "      <th>6</th>\n",
       "      <td>Cat4</td>\n",
       "      <td>5631649</td>\n",
       "      <td>42.7148</td>\n",
       "      <td>0.4341</td>\n",
       "    </tr>\n",
       "    <tr>\n",
       "      <th>4</th>\n",
       "      <td>Cat2</td>\n",
       "      <td>4874164</td>\n",
       "      <td>36.9695</td>\n",
       "      <td>0.4471</td>\n",
       "    </tr>\n",
       "    <tr>\n",
       "      <th>12</th>\n",
       "      <td>Cat11</td>\n",
       "      <td>31469</td>\n",
       "      <td>0.2387</td>\n",
       "      <td>0.5272</td>\n",
       "    </tr>\n",
       "    <tr>\n",
       "      <th>3</th>\n",
       "      <td>Cat1</td>\n",
       "      <td>25981</td>\n",
       "      <td>0.1971</td>\n",
       "      <td>0.3047</td>\n",
       "    </tr>\n",
       "    <tr>\n",
       "      <th>8</th>\n",
       "      <td>Cat6</td>\n",
       "      <td>25981</td>\n",
       "      <td>0.1971</td>\n",
       "      <td>0.3235</td>\n",
       "    </tr>\n",
       "    <tr>\n",
       "      <th>0</th>\n",
       "      <td>Blind_Make</td>\n",
       "      <td>8431</td>\n",
       "      <td>0.0639</td>\n",
       "      <td>0.1257</td>\n",
       "    </tr>\n",
       "    <tr>\n",
       "      <th>1</th>\n",
       "      <td>Blind_Model</td>\n",
       "      <td>8431</td>\n",
       "      <td>0.0639</td>\n",
       "      <td>0.0453</td>\n",
       "    </tr>\n",
       "    <tr>\n",
       "      <th>2</th>\n",
       "      <td>Blind_Submodel</td>\n",
       "      <td>8431</td>\n",
       "      <td>0.0639</td>\n",
       "      <td>0.0125</td>\n",
       "    </tr>\n",
       "    <tr>\n",
       "      <th>13</th>\n",
       "      <td>OrdCat</td>\n",
       "      <td>7546</td>\n",
       "      <td>0.0572</td>\n",
       "      <td>0.4385</td>\n",
       "    </tr>\n",
       "    <tr>\n",
       "      <th>5</th>\n",
       "      <td>Cat3</td>\n",
       "      <td>3999</td>\n",
       "      <td>0.0303</td>\n",
       "      <td>0.5680</td>\n",
       "    </tr>\n",
       "    <tr>\n",
       "      <th>11</th>\n",
       "      <td>Cat10</td>\n",
       "      <td>3917</td>\n",
       "      <td>0.0297</td>\n",
       "      <td>0.6503</td>\n",
       "    </tr>\n",
       "    <tr>\n",
       "      <th>10</th>\n",
       "      <td>Cat8</td>\n",
       "      <td>3364</td>\n",
       "      <td>0.0255</td>\n",
       "      <td>0.6543</td>\n",
       "    </tr>\n",
       "  </tbody>\n",
       "</table>\n",
       "</div>"
      ],
      "text/plain": [
       "      Feature name  No of \"?\"  Percentage of \"?\"  \\\n",
       "9             Cat7    7167634            54.3650   \n",
       "7             Cat5    5637321            42.7579   \n",
       "6             Cat4    5631649            42.7148   \n",
       "4             Cat2    4874164            36.9695   \n",
       "12           Cat11      31469             0.2387   \n",
       "3             Cat1      25981             0.1971   \n",
       "8             Cat6      25981             0.1971   \n",
       "0       Blind_Make       8431             0.0639   \n",
       "1      Blind_Model       8431             0.0639   \n",
       "2   Blind_Submodel       8431             0.0639   \n",
       "13          OrdCat       7546             0.0572   \n",
       "5             Cat3       3999             0.0303   \n",
       "11           Cat10       3917             0.0297   \n",
       "10            Cat8       3364             0.0255   \n",
       "\n",
       "    Percentage of \"mode()\" value other than \"?\"  \n",
       "9                                        0.5436  \n",
       "7                                        0.5070  \n",
       "6                                        0.4341  \n",
       "4                                        0.4471  \n",
       "12                                       0.5272  \n",
       "3                                        0.3047  \n",
       "8                                        0.3235  \n",
       "0                                        0.1257  \n",
       "1                                        0.0453  \n",
       "2                                        0.0125  \n",
       "13                                       0.4385  \n",
       "5                                        0.5680  \n",
       "11                                       0.6503  \n",
       "10                                       0.6543  "
      ]
     },
     "execution_count": 5,
     "metadata": {},
     "output_type": "execute_result"
    }
   ],
   "source": [
    "# Selecting columns with \"?\" values\n",
    "cat_feats = x_train.columns[x_train.apply(lambda x: x == \"?\").any()]\n",
    "# Initialize a list to store the data\n",
    "q_data = []\n",
    "\n",
    "# Iterate through each column with \"?\" values\n",
    "for i in cat_feats:\n",
    "    # Append data to the list\n",
    "    q_data.append([   \n",
    "                      i, # Feature name\n",
    "                      len(x_train[x_train[i]==\"?\"][i]), # Number of \"?\" values\n",
    "                      round((len(x_train[x_train[i]==\"?\"][i]) / len(x_train))*100, 4),  # Percentage of \"?\" values\n",
    "                      round(len(x_train[x_train[i]==x_train[i].mode()[0]][i]) / len(x_train), 4) # Percentage of mode() value other than \"?\"\n",
    "                 ])\n",
    "\n",
    "# Convert the list to a DataFrame with appropriate column names\n",
    "q_data = pd.DataFrame(q_data, columns=['Feature name', 'No of \"?\"', 'Percentage of \"?\"', 'Percentage of \"mode()\" value other than \"?\"'])\n",
    "# Sort the DataFrame by the number of \"?\" values in descending order\n",
    "q_data.sort_values(by='No of \"?\"', ascending=False)"
   ]
  },
  {
   "cell_type": "markdown",
   "metadata": {},
   "source": [
    "The data above indicates that the features \"Cat7\", \"Cat5\", \"Cat4\", and \"Cat2\" have more than 35% \"?\" values. For these features, we can impute them with the \"mode\" value.\n",
    "\n",
    "For the remaining features, the code below checks if we can impute \"?\" with any other letters that do not already exist in the dataset for categorical (\"Cat\") features."
   ]
  },
  {
   "cell_type": "code",
   "execution_count": null,
   "metadata": {},
   "outputs": [
    {
     "name": "stdout",
     "output_type": "stream",
     "text": [
      "['?', 'A', 'B', 'C', 'D', 'E', 'F', 'G', 'H', 'I', 'J']\n"
     ]
    }
   ],
   "source": [
    "# Identify categorical features\n",
    "features = [col for col in x_train.columns if col.startswith(\"Cat\")]\n",
    "# Get unique values for each categorical feature\n",
    "unique_values = [x_train[col].unique().tolist() for col in features]\n",
    "\n",
    "# Flatten and sort unique values\n",
    "unique_vals = []\n",
    "for values in unique_values:\n",
    "    unique_vals.extend(values)\n",
    "unique_vals = sorted(set([i for i in unique_vals if pd.notna(i)]))\n",
    "\n",
    "# Print unique non-null values in categorical features\n",
    "print(unique_vals)"
   ]
  },
  {
   "cell_type": "markdown",
   "metadata": {},
   "source": [
    "The above result shows that the \"Cat\" features have only a few unique values and can be imputed with any letters from \"K\" to \"Z\" to replace missing values denoted by \"?\"."
   ]
  },
  {
   "cell_type": "markdown",
   "metadata": {},
   "source": [
    "Based on the analysis of the \"Cat\" features above, we observed that \"OrdCat\" contains numeric values despite not being a numeric feature. Let's examine the unique values in this feature to understand the nature of the values it holds."
   ]
  },
  {
   "cell_type": "code",
   "execution_count": 79,
   "metadata": {},
   "outputs": [
    {
     "data": {
      "text/plain": [
       "array(['4', '5', '2', '6', '3', '?', '1', '7', 4, 2, 5, 3, 1, 6, 7],\n",
       "      dtype=object)"
      ]
     },
     "execution_count": 79,
     "metadata": {},
     "output_type": "execute_result"
    }
   ],
   "source": [
    "# Get the unique values in the 'OrdCat' column of x_train\n",
    "x_train['OrdCat'].unique()"
   ]
  },
  {
   "cell_type": "markdown",
   "metadata": {},
   "source": [
    "The \"OrdCat\" feature contains numbers represented as strings. We need to convert these strings into numerical values."
   ]
  },
  {
   "cell_type": "markdown",
   "metadata": {},
   "source": [
    "Review the 'Blind_Model' feature to determine its unique values and the number of '?' occurrences within it."
   ]
  },
  {
   "cell_type": "code",
   "execution_count": 3,
   "metadata": {},
   "outputs": [
    {
     "name": "stdout",
     "output_type": "stream",
     "text": [
      "Unique values in \"Blind_Model\" :  ['?' 'A.2' 'A.3' ... 'Z.45' 'Z.5' 'Z.8']\n",
      "Number of unique values in \"Blind_Model\" :  1303\n",
      "Number of \"?\" in \"Blind_Model :  8431\n"
     ]
    }
   ],
   "source": [
    "# Print unique values and count for the 'Blind_Model' column\n",
    "print('Unique values in \"Blind_Model\" : ', x_train['Blind_Model'].sort_values().unique())\n",
    "print('Number of unique values in \"Blind_Model\" : ', x_train['Blind_Model'].nunique())\n",
    "\n",
    "# Count the number of \"?\" in the 'Blind_Model' column\n",
    "print('Number of \"?\" in \"Blind_Model : ', len(x_train.loc[x_train['Blind_Model']==\"?\", 'Blind_Model']))"
   ]
  },
  {
   "cell_type": "markdown",
   "metadata": {},
   "source": [
    "There are 1303 unique values in the 'Blind_Model' feature. The values in the feature are in the format of an alphabet and a number separated by a period."
   ]
  },
  {
   "cell_type": "markdown",
   "metadata": {},
   "source": [
    "Let's check the format of the values in the 'Blind_Model' feature to see if it matches the format mentioned above for all values except '?'."
   ]
  },
  {
   "cell_type": "code",
   "execution_count": 5,
   "metadata": {},
   "outputs": [
    {
     "name": "stdout",
     "output_type": "stream",
     "text": [
      "The data is homogeneous in nature, with a period separating text and numbers.\n"
     ]
    }
   ],
   "source": [
    "BM_Flag = False\n",
    "# Loop through the rows of x_train\n",
    "for i in range(len(x_train)):\n",
    "    # Split the 'Blind_Model' value at '.' to check for a specific pattern\n",
    "    num = x_train['Blind_Model'].loc[i].split('.')\n",
    "    # Check if the first part is not \"?\"\n",
    "    if (num[0] != \"?\") and isinstance(num[0], str):\n",
    "        # Check if the second part is not a digit\n",
    "        if not num[1].strip(\"'\").isdigit():\n",
    "            # Print the index and the second part of 'Blind_Model' if it is not a number\n",
    "            print(i, num[1])\n",
    "            BM_Flag = True\n",
    "if not BM_Flag:\n",
    "    print('The data is homogeneous in nature, with a period separating text and numbers.')"
   ]
  },
  {
   "cell_type": "markdown",
   "metadata": {},
   "source": [
    "The above output indicates that the feature contains values in a format consisting of both text and numbers separated by periods. The text and numbers can be separated for feature engineering."
   ]
  },
  {
   "cell_type": "markdown",
   "metadata": {},
   "source": [
    "Let us review the feature \"Blind_Submodel\" to see the format of the data in it."
   ]
  },
  {
   "cell_type": "code",
   "execution_count": 5,
   "metadata": {},
   "outputs": [
    {
     "name": "stdout",
     "output_type": "stream",
     "text": [
      "Unique values in \"Blind_Submodel\" :  ['?' 'A.2.0' 'A.3.0' ... 'Z.45.0' 'Z.5.0' 'Z.8.0']\n",
      "Number of unique values in \"Blind_Submodel\" :  2740\n",
      "Number of \"?\" in \"Blind_Submodel\" :  8431\n"
     ]
    }
   ],
   "source": [
    "# Print unique values and count for the 'Blind_Submodel' column\n",
    "print('Unique values in \"Blind_Submodel\" : ', x_train['Blind_Submodel'].sort_values().unique())\n",
    "print('Number of unique values in \"Blind_Submodel\" : ', x_train['Blind_Submodel'].nunique())\n",
    "\n",
    "# Count the number of \"?\" in the 'Blind_Submodel' column\n",
    "print('Number of \"?\" in \"Blind_Submodel\" : ', len(x_train.loc[x_train['Blind_Submodel']==\"?\", 'Blind_Submodel']))"
   ]
  },
  {
   "cell_type": "code",
   "execution_count": 12,
   "metadata": {},
   "outputs": [
    {
     "name": "stdout",
     "output_type": "stream",
     "text": [
      "The data is homogeneous in nature, with periods separating text and numbers.\n"
     ]
    }
   ],
   "source": [
    "BS_Flag = False\n",
    "# Loop through the rows of x_train\n",
    "for i in range(len(x_train)):\n",
    "    # Split the 'Blind_Submodel' value at '.' to check for a specific pattern\n",
    "    num = x_train['Blind_Submodel'].loc[i].split('.')\n",
    "    # Check if the first part is not \"?\"\n",
    "    if (num[0] != \"?\") and isinstance(num[0], str):\n",
    "        # Check if the second part is not a digit\n",
    "        if not num[1].strip(\"'\").isdigit():\n",
    "            # Print the index and the second part of 'Blind_Submodel' if it doesn't follow the expected pattern\n",
    "            print(i, num[1])\n",
    "            BS_Flag = True\n",
    "        # Check if the third part is not a digit\n",
    "        if not num[2].strip(\"'\").isdigit():\n",
    "            # Print the index and the third part of 'Blind_Submodel' if it doesn't follow the expected pattern\n",
    "            print(i, num[2])\n",
    "            BS_Flag = True\n",
    "if not BS_Flag:\n",
    "    print('The data is homogeneous in nature, with periods separating text and numbers.')"
   ]
  },
  {
   "cell_type": "markdown",
   "metadata": {},
   "source": [
    "The examination conducted on 'Blind_Submodel,' similar to the previously examined 'Blind_Model,' indicates that the feature contains values in a format consisting of both text and numbers separated by periods. This similarity in structure allows for potential separation during feature engineering."
   ]
  },
  {
   "cell_type": "markdown",
   "metadata": {},
   "source": [
    "Check the features that are numbers without zero and can be applied mathematical transformations."
   ]
  },
  {
   "cell_type": "code",
   "execution_count": null,
   "metadata": {},
   "outputs": [
    {
     "name": "stdout",
     "output_type": "stream",
     "text": [
      "Row_ID : 13184290\n",
      "Household_ID : 4309042\n",
      "Vehicle : 28\n",
      "Calendar_Year : 3\n",
      "Model_Year : 29\n",
      "NVVar1 : 29\n",
      "NVVar2 : 27\n",
      "NVVar3 : 31\n",
      "NVVar4 : 30\n"
     ]
    }
   ],
   "source": [
    "# Loop through columns with numeric data types in x_train\n",
    "for i in x_train.select_dtypes(include=[np.number]).columns:\n",
    "    # Check if the column has no values equal to 0 or 0.0\n",
    "    if not ((x_train[i] == 0) | (x_train[i] == 0.)).any():\n",
    "        # Print the column name and the number of unique values\n",
    "        print(i, \":\", x_train[i].nunique())"
   ]
  },
  {
   "cell_type": "markdown",
   "metadata": {},
   "source": [
    "The above features consist of numerical values without zeros. Therefore, we can apply mathematical transformations to them."
   ]
  },
  {
   "cell_type": "markdown",
   "metadata": {},
   "source": [
    "The 'Household_ID' feature appears to be a serial number-like feature. Let's calculate the percentage of unique values in it."
   ]
  },
  {
   "cell_type": "code",
   "execution_count": 8,
   "metadata": {},
   "outputs": [
    {
     "name": "stdout",
     "output_type": "stream",
     "text": [
      "% of unique values in Household_ID: 32.68%\n"
     ]
    }
   ],
   "source": [
    "Unique_HID = x_train['Household_ID'].nunique() / len(x_train['Household_ID'])\n",
    "# Print the percentage of unique values in 'Household_ID'\n",
    "print(\"% of unique values in Household_ID: {:.2f}%\".format(Unique_HID * 100))"
   ]
  },
  {
   "cell_type": "code",
   "execution_count": 9,
   "metadata": {},
   "outputs": [
    {
     "data": {
      "text/plain": [
       "0                 1\n",
       "1                 2\n",
       "2                 3\n",
       "3                 3\n",
       "4                 3\n",
       "             ...   \n",
       "13184285    7542110\n",
       "13184286    7542111\n",
       "13184287    7542112\n",
       "13184288    7542112\n",
       "13184289    7542113\n",
       "Name: Household_ID, Length: 13184290, dtype: int64"
      ]
     },
     "execution_count": 9,
     "metadata": {},
     "output_type": "execute_result"
    }
   ],
   "source": [
    "x_train['Household_ID']"
   ]
  },
  {
   "cell_type": "markdown",
   "metadata": {},
   "source": [
    "The feature 'Household_ID' has 32.68% unique values. Since the data is in increasing order, combining it with other numerical features would not be a good approach."
   ]
  },
  {
   "cell_type": "markdown",
   "metadata": {},
   "source": [
    "Let us review the unique elements in the feature \"Vehicle\"."
   ]
  },
  {
   "cell_type": "code",
   "execution_count": 9,
   "metadata": {},
   "outputs": [
    {
     "name": "stdout",
     "output_type": "stream",
     "text": [
      "28\n"
     ]
    },
    {
     "data": {
      "text/plain": [
       "array([ 1,  2,  3,  4,  5,  6,  7,  8,  9, 10, 11, 12, 13, 14, 15, 16, 17,\n",
       "       18, 19, 20, 21, 22, 23, 24, 25, 26, 28, 29], dtype=int64)"
      ]
     },
     "execution_count": 9,
     "metadata": {},
     "output_type": "execute_result"
    }
   ],
   "source": [
    "# Print the number of unique values in the 'Vehicle' column\n",
    "print(x_train['Vehicle'].nunique())\n",
    "# Sort and print the unique values in the 'Vehicle' column\n",
    "np.sort(x_train['Vehicle'].unique())"
   ]
  },
  {
   "cell_type": "markdown",
   "metadata": {},
   "source": [
    "The feature \"Vehicle\" has numerical features and ideal for mathematical transformations."
   ]
  },
  {
   "cell_type": "markdown",
   "metadata": {},
   "source": [
    "Group x_train by 'Vehicle' and calculate aggregate statistics for 'Claim_Amount'."
   ]
  },
  {
   "cell_type": "code",
   "execution_count": 10,
   "metadata": {},
   "outputs": [
    {
     "name": "stdout",
     "output_type": "stream",
     "text": [
      "                  sum    count  % of occurrence\n",
      "Vehicle                                        \n",
      "1        8.466029e+06  6363423          48.2652\n",
      "2        5.238684e+06  3874475          29.3871\n",
      "3        2.475997e+06  1755032          13.3115\n",
      "4        1.097424e+06   714805           5.4216\n",
      "5        3.898626e+05   277944           2.1081\n",
      "6        1.548966e+05   114869           0.8713\n",
      "7        6.690532e+04    47576           0.3609\n",
      "8        2.371948e+04    19845           0.1505\n",
      "9        1.525438e+04     8533           0.0647\n",
      "10       5.131760e+03     3824           0.0290\n",
      "11       2.089310e+03     1866           0.0142\n",
      "12       1.386712e+03      931           0.0071\n",
      "13       5.279128e+02      493           0.0037\n",
      "14       0.000000e+00      273           0.0021\n",
      "15       0.000000e+00      151           0.0011\n",
      "16       1.034899e+02       96           0.0007\n",
      "17       0.000000e+00       62           0.0005\n",
      "18       0.000000e+00       30           0.0002\n",
      "19       1.303231e+03       25           0.0002\n",
      "20       0.000000e+00       12           0.0001\n",
      "21       0.000000e+00        6           0.0000\n",
      "22       0.000000e+00        6           0.0000\n",
      "23       0.000000e+00        3           0.0000\n",
      "24       0.000000e+00        4           0.0000\n",
      "25       0.000000e+00        3           0.0000\n",
      "26       0.000000e+00        1           0.0000\n",
      "28       0.000000e+00        1           0.0000\n",
      "29       0.000000e+00        1           0.0000\n"
     ]
    }
   ],
   "source": [
    "vehicle_stats = x_train.groupby(by='Vehicle')['Claim_Amount'].agg(['sum', 'count'])\n",
    "# Calculate the percentage of occurrence for each 'Vehicle' category\n",
    "vehicle_stats['% of occurrence'] = round((vehicle_stats['count'] / vehicle_stats['count'].agg('sum')) * 100, 4)\n",
    "# Print the aggregated statistics and percentage of occurrence for each 'Vehicle' category\n",
    "print(vehicle_stats)"
   ]
  },
  {
   "cell_type": "markdown",
   "metadata": {},
   "source": [
    "Out of the 29 unique values, 96% of the data is constituted by 4 features. Additionally, the percentage of occurrence decreases as the vehicle count increases."
   ]
  },
  {
   "cell_type": "markdown",
   "metadata": {},
   "source": [
    "Let us create a bar plot showing the sum of claim amounts for each vehicle number within the household."
   ]
  },
  {
   "cell_type": "code",
   "execution_count": 11,
   "metadata": {},
   "outputs": [
    {
     "data": {
      "text/plain": [
       "<Axes: title={'center': 'Vehicle # within the household - Claim Amount'}, xlabel='Vehicle # within the household', ylabel='Sum of claim amount'>"
      ]
     },
     "execution_count": 11,
     "metadata": {},
     "output_type": "execute_result"
    },
    {
     "data": {
      "image/png": "[encoded data removed]",
      "text/plain": [
       "<Figure size 1200x500 with 1 Axes>"
      ]
     },
     "metadata": {},
     "output_type": "display_data"
    }
   ],
   "source": [
    "plt.figure(figsize=(12,5))\n",
    "plt.title('Vehicle # within the household - Claim Amount')\n",
    "plt.xlabel('Vehicle # within the household')\n",
    "plt.ylabel('Sum of claim amount')\n",
    "sns.barplot(x_train.groupby(by='Vehicle')['Claim_Amount'].agg('sum'))"
   ]
  },
  {
   "cell_type": "markdown",
   "metadata": {},
   "source": [
    "Let's check the \"Household_ID\" and \"Vehicle\" to see if any relationships exist."
   ]
  },
  {
   "cell_type": "code",
   "execution_count": 13,
   "metadata": {},
   "outputs": [
    {
     "data": {
      "text/html": [
       "<div>\n",
       "<style scoped>\n",
       "    .dataframe tbody tr th:only-of-type {\n",
       "        vertical-align: middle;\n",
       "    }\n",
       "\n",
       "    .dataframe tbody tr th {\n",
       "        vertical-align: top;\n",
       "    }\n",
       "\n",
       "    .dataframe thead th {\n",
       "        text-align: right;\n",
       "    }\n",
       "</style>\n",
       "<table border=\"1\" class=\"dataframe\">\n",
       "  <thead>\n",
       "    <tr style=\"text-align: right;\">\n",
       "      <th></th>\n",
       "      <th>Row_ID</th>\n",
       "      <th>Household_ID</th>\n",
       "      <th>Vehicle</th>\n",
       "    </tr>\n",
       "  </thead>\n",
       "  <tbody>\n",
       "    <tr>\n",
       "      <th>0</th>\n",
       "      <td>1</td>\n",
       "      <td>1</td>\n",
       "      <td>3</td>\n",
       "    </tr>\n",
       "    <tr>\n",
       "      <th>1</th>\n",
       "      <td>2</td>\n",
       "      <td>2</td>\n",
       "      <td>2</td>\n",
       "    </tr>\n",
       "    <tr>\n",
       "      <th>2</th>\n",
       "      <td>3</td>\n",
       "      <td>3</td>\n",
       "      <td>1</td>\n",
       "    </tr>\n",
       "    <tr>\n",
       "      <th>3</th>\n",
       "      <td>4</td>\n",
       "      <td>3</td>\n",
       "      <td>1</td>\n",
       "    </tr>\n",
       "    <tr>\n",
       "      <th>4</th>\n",
       "      <td>5</td>\n",
       "      <td>3</td>\n",
       "      <td>2</td>\n",
       "    </tr>\n",
       "    <tr>\n",
       "      <th>5</th>\n",
       "      <td>6</td>\n",
       "      <td>3</td>\n",
       "      <td>2</td>\n",
       "    </tr>\n",
       "    <tr>\n",
       "      <th>6</th>\n",
       "      <td>7</td>\n",
       "      <td>4</td>\n",
       "      <td>1</td>\n",
       "    </tr>\n",
       "    <tr>\n",
       "      <th>7</th>\n",
       "      <td>8</td>\n",
       "      <td>4</td>\n",
       "      <td>2</td>\n",
       "    </tr>\n",
       "    <tr>\n",
       "      <th>8</th>\n",
       "      <td>9</td>\n",
       "      <td>4</td>\n",
       "      <td>3</td>\n",
       "    </tr>\n",
       "    <tr>\n",
       "      <th>9</th>\n",
       "      <td>10</td>\n",
       "      <td>5</td>\n",
       "      <td>1</td>\n",
       "    </tr>\n",
       "    <tr>\n",
       "      <th>10</th>\n",
       "      <td>11</td>\n",
       "      <td>5</td>\n",
       "      <td>1</td>\n",
       "    </tr>\n",
       "    <tr>\n",
       "      <th>11</th>\n",
       "      <td>12</td>\n",
       "      <td>5</td>\n",
       "      <td>3</td>\n",
       "    </tr>\n",
       "    <tr>\n",
       "      <th>12</th>\n",
       "      <td>13</td>\n",
       "      <td>5</td>\n",
       "      <td>3</td>\n",
       "    </tr>\n",
       "    <tr>\n",
       "      <th>13</th>\n",
       "      <td>14</td>\n",
       "      <td>5</td>\n",
       "      <td>4</td>\n",
       "    </tr>\n",
       "    <tr>\n",
       "      <th>14</th>\n",
       "      <td>15</td>\n",
       "      <td>5</td>\n",
       "      <td>4</td>\n",
       "    </tr>\n",
       "    <tr>\n",
       "      <th>15</th>\n",
       "      <td>16</td>\n",
       "      <td>6</td>\n",
       "      <td>1</td>\n",
       "    </tr>\n",
       "  </tbody>\n",
       "</table>\n",
       "</div>"
      ],
      "text/plain": [
       "    Row_ID  Household_ID  Vehicle\n",
       "0        1             1        3\n",
       "1        2             2        2\n",
       "2        3             3        1\n",
       "3        4             3        1\n",
       "4        5             3        2\n",
       "5        6             3        2\n",
       "6        7             4        1\n",
       "7        8             4        2\n",
       "8        9             4        3\n",
       "9       10             5        1\n",
       "10      11             5        1\n",
       "11      12             5        3\n",
       "12      13             5        3\n",
       "13      14             5        4\n",
       "14      15             5        4\n",
       "15      16             6        1"
      ]
     },
     "execution_count": 13,
     "metadata": {},
     "output_type": "execute_result"
    }
   ],
   "source": [
    "# Select and display the first 16 rows of the features 'Row_ID', 'Household_ID' and 'Vehicle' in x_train\n",
    "x_train[['Row_ID', 'Household_ID', 'Vehicle']].head(16)"
   ]
  },
  {
   "cell_type": "code",
   "execution_count": 14,
   "metadata": {},
   "outputs": [
    {
     "data": {
      "text/html": [
       "<div>\n",
       "<style scoped>\n",
       "    .dataframe tbody tr th:only-of-type {\n",
       "        vertical-align: middle;\n",
       "    }\n",
       "\n",
       "    .dataframe tbody tr th {\n",
       "        vertical-align: top;\n",
       "    }\n",
       "\n",
       "    .dataframe thead th {\n",
       "        text-align: right;\n",
       "    }\n",
       "</style>\n",
       "<table border=\"1\" class=\"dataframe\">\n",
       "  <thead>\n",
       "    <tr style=\"text-align: right;\">\n",
       "      <th></th>\n",
       "      <th>Row_ID</th>\n",
       "      <th>Household_ID</th>\n",
       "      <th>Vehicle</th>\n",
       "      <th>Calendar_Year</th>\n",
       "      <th>Model_Year</th>\n",
       "      <th>Blind_Make</th>\n",
       "      <th>Blind_Model</th>\n",
       "      <th>Blind_Submodel</th>\n",
       "      <th>Cat1</th>\n",
       "      <th>Cat2</th>\n",
       "      <th>...</th>\n",
       "      <th>Var5</th>\n",
       "      <th>Var6</th>\n",
       "      <th>Var7</th>\n",
       "      <th>Var8</th>\n",
       "      <th>NVCat</th>\n",
       "      <th>NVVar1</th>\n",
       "      <th>NVVar2</th>\n",
       "      <th>NVVar3</th>\n",
       "      <th>NVVar4</th>\n",
       "      <th>Claim_Amount</th>\n",
       "    </tr>\n",
       "  </thead>\n",
       "  <tbody>\n",
       "    <tr>\n",
       "      <th>9</th>\n",
       "      <td>10</td>\n",
       "      <td>5</td>\n",
       "      <td>1</td>\n",
       "      <td>2005</td>\n",
       "      <td>1995</td>\n",
       "      <td>BW</td>\n",
       "      <td>BW.3</td>\n",
       "      <td>BW.3.0</td>\n",
       "      <td>D</td>\n",
       "      <td>?</td>\n",
       "      <td>...</td>\n",
       "      <td>0.176312</td>\n",
       "      <td>0.283264</td>\n",
       "      <td>0.969232</td>\n",
       "      <td>-0.792339</td>\n",
       "      <td>N</td>\n",
       "      <td>2.054683</td>\n",
       "      <td>-0.266117</td>\n",
       "      <td>-0.272337</td>\n",
       "      <td>-0.251419</td>\n",
       "      <td>0.0</td>\n",
       "    </tr>\n",
       "    <tr>\n",
       "      <th>10</th>\n",
       "      <td>11</td>\n",
       "      <td>5</td>\n",
       "      <td>1</td>\n",
       "      <td>2006</td>\n",
       "      <td>1995</td>\n",
       "      <td>BW</td>\n",
       "      <td>BW.3</td>\n",
       "      <td>BW.3.0</td>\n",
       "      <td>D</td>\n",
       "      <td>?</td>\n",
       "      <td>...</td>\n",
       "      <td>0.176312</td>\n",
       "      <td>0.283264</td>\n",
       "      <td>0.969232</td>\n",
       "      <td>-0.792339</td>\n",
       "      <td>N</td>\n",
       "      <td>-0.231530</td>\n",
       "      <td>-0.266117</td>\n",
       "      <td>-0.272337</td>\n",
       "      <td>-0.251419</td>\n",
       "      <td>0.0</td>\n",
       "    </tr>\n",
       "    <tr>\n",
       "      <th>11</th>\n",
       "      <td>12</td>\n",
       "      <td>5</td>\n",
       "      <td>3</td>\n",
       "      <td>2005</td>\n",
       "      <td>2003</td>\n",
       "      <td>BW</td>\n",
       "      <td>BW.167</td>\n",
       "      <td>BW.167.0</td>\n",
       "      <td>I</td>\n",
       "      <td>C</td>\n",
       "      <td>...</td>\n",
       "      <td>0.342832</td>\n",
       "      <td>1.451805</td>\n",
       "      <td>1.694201</td>\n",
       "      <td>1.242493</td>\n",
       "      <td>N</td>\n",
       "      <td>2.054683</td>\n",
       "      <td>-0.266117</td>\n",
       "      <td>-0.272337</td>\n",
       "      <td>-0.251419</td>\n",
       "      <td>0.0</td>\n",
       "    </tr>\n",
       "    <tr>\n",
       "      <th>12</th>\n",
       "      <td>13</td>\n",
       "      <td>5</td>\n",
       "      <td>3</td>\n",
       "      <td>2006</td>\n",
       "      <td>2003</td>\n",
       "      <td>BW</td>\n",
       "      <td>BW.167</td>\n",
       "      <td>BW.167.0</td>\n",
       "      <td>I</td>\n",
       "      <td>C</td>\n",
       "      <td>...</td>\n",
       "      <td>0.342832</td>\n",
       "      <td>1.451805</td>\n",
       "      <td>1.694201</td>\n",
       "      <td>1.242493</td>\n",
       "      <td>N</td>\n",
       "      <td>-0.231530</td>\n",
       "      <td>-0.266117</td>\n",
       "      <td>-0.272337</td>\n",
       "      <td>-0.251419</td>\n",
       "      <td>0.0</td>\n",
       "    </tr>\n",
       "    <tr>\n",
       "      <th>13</th>\n",
       "      <td>14</td>\n",
       "      <td>5</td>\n",
       "      <td>4</td>\n",
       "      <td>2005</td>\n",
       "      <td>2004</td>\n",
       "      <td>Y</td>\n",
       "      <td>Y.9</td>\n",
       "      <td>Y.9.0</td>\n",
       "      <td>F</td>\n",
       "      <td>C</td>\n",
       "      <td>...</td>\n",
       "      <td>-0.608711</td>\n",
       "      <td>-1.134425</td>\n",
       "      <td>-1.193388</td>\n",
       "      <td>-0.732172</td>\n",
       "      <td>N</td>\n",
       "      <td>2.054683</td>\n",
       "      <td>-0.266117</td>\n",
       "      <td>-0.272337</td>\n",
       "      <td>-0.251419</td>\n",
       "      <td>0.0</td>\n",
       "    </tr>\n",
       "    <tr>\n",
       "      <th>14</th>\n",
       "      <td>15</td>\n",
       "      <td>5</td>\n",
       "      <td>4</td>\n",
       "      <td>2006</td>\n",
       "      <td>2004</td>\n",
       "      <td>Y</td>\n",
       "      <td>Y.9</td>\n",
       "      <td>Y.9.0</td>\n",
       "      <td>F</td>\n",
       "      <td>C</td>\n",
       "      <td>...</td>\n",
       "      <td>-0.608711</td>\n",
       "      <td>-1.134425</td>\n",
       "      <td>-1.193388</td>\n",
       "      <td>-0.732172</td>\n",
       "      <td>N</td>\n",
       "      <td>-0.231530</td>\n",
       "      <td>-0.266117</td>\n",
       "      <td>-0.272337</td>\n",
       "      <td>-0.251419</td>\n",
       "      <td>0.0</td>\n",
       "    </tr>\n",
       "  </tbody>\n",
       "</table>\n",
       "<p>6 rows × 35 columns</p>\n",
       "</div>"
      ],
      "text/plain": [
       "    Row_ID  Household_ID  Vehicle  Calendar_Year  Model_Year Blind_Make  \\\n",
       "9       10             5        1           2005        1995         BW   \n",
       "10      11             5        1           2006        1995         BW   \n",
       "11      12             5        3           2005        2003         BW   \n",
       "12      13             5        3           2006        2003         BW   \n",
       "13      14             5        4           2005        2004          Y   \n",
       "14      15             5        4           2006        2004          Y   \n",
       "\n",
       "   Blind_Model Blind_Submodel Cat1 Cat2  ...      Var5      Var6      Var7  \\\n",
       "9         BW.3         BW.3.0    D    ?  ...  0.176312  0.283264  0.969232   \n",
       "10        BW.3         BW.3.0    D    ?  ...  0.176312  0.283264  0.969232   \n",
       "11      BW.167       BW.167.0    I    C  ...  0.342832  1.451805  1.694201   \n",
       "12      BW.167       BW.167.0    I    C  ...  0.342832  1.451805  1.694201   \n",
       "13         Y.9          Y.9.0    F    C  ... -0.608711 -1.134425 -1.193388   \n",
       "14         Y.9          Y.9.0    F    C  ... -0.608711 -1.134425 -1.193388   \n",
       "\n",
       "        Var8 NVCat    NVVar1    NVVar2    NVVar3    NVVar4 Claim_Amount  \n",
       "9  -0.792339     N  2.054683 -0.266117 -0.272337 -0.251419          0.0  \n",
       "10 -0.792339     N -0.231530 -0.266117 -0.272337 -0.251419          0.0  \n",
       "11  1.242493     N  2.054683 -0.266117 -0.272337 -0.251419          0.0  \n",
       "12  1.242493     N -0.231530 -0.266117 -0.272337 -0.251419          0.0  \n",
       "13 -0.732172     N  2.054683 -0.266117 -0.272337 -0.251419          0.0  \n",
       "14 -0.732172     N -0.231530 -0.266117 -0.272337 -0.251419          0.0  \n",
       "\n",
       "[6 rows x 35 columns]"
      ]
     },
     "execution_count": 14,
     "metadata": {},
     "output_type": "execute_result"
    }
   ],
   "source": [
    "# Filter rows in x_train where 'Household_ID' is equal to 5\n",
    "x_train[x_train['Household_ID']==5]"
   ]
  },
  {
   "cell_type": "markdown",
   "metadata": {},
   "source": [
    "The \"Household_ID\" is the same for multiple vehicles. It appears that insured individuals have multiple vehicles with different makes and models. The \"Cat\" and \"Var\" features show some relationships, making them useful for featurization."
   ]
  },
  {
   "cell_type": "code",
   "execution_count": 15,
   "metadata": {},
   "outputs": [
    {
     "data": {
      "text/plain": [
       "array([2005, 2006, 2007], dtype=int64)"
      ]
     },
     "execution_count": 15,
     "metadata": {},
     "output_type": "execute_result"
    }
   ],
   "source": [
    "# Get the unique values in the 'Calendar_Year' column of x_train\n",
    "x_train['Calendar_Year'].unique()"
   ]
  },
  {
   "cell_type": "markdown",
   "metadata": {},
   "source": [
    "Based on the above output, there is only 3 distinct values in the \"Caldendar_Year\" feature. It would explain the claim status in each years."
   ]
  },
  {
   "cell_type": "code",
   "execution_count": 16,
   "metadata": {},
   "outputs": [
    {
     "name": "stdout",
     "output_type": "stream",
     "text": [
      "29\n"
     ]
    },
    {
     "data": {
      "text/plain": [
       "array([1981, 1982, 1983, 1984, 1985, 1986, 1987, 1988, 1989, 1990, 1991,\n",
       "       1992, 1993, 1994, 1995, 1996, 1997, 1998, 1999, 2000, 2001, 2002,\n",
       "       2003, 2004, 2005, 2006, 2007, 2008, 2009], dtype=int64)"
      ]
     },
     "execution_count": 16,
     "metadata": {},
     "output_type": "execute_result"
    }
   ],
   "source": [
    "# Print the number of unique values in the 'Model_Year' column\n",
    "print(x_train['Model_Year'].nunique())\n",
    "# Sort and print the unique values in the 'Model_Year' column\n",
    "np.sort(x_train['Model_Year'].unique())"
   ]
  },
  {
   "cell_type": "markdown",
   "metadata": {},
   "source": [
    "The above output shows that there are 29 distinct years in the 'Model_Year' feature. It makes sense that the model year of vehicles ranges from 1981 to 2009."
   ]
  },
  {
   "cell_type": "code",
   "execution_count": 17,
   "metadata": {},
   "outputs": [
    {
     "name": "stdout",
     "output_type": "stream",
     "text": [
      "75\n"
     ]
    },
    {
     "data": {
      "text/plain": [
       "array(['?', 'A', 'AB', 'AC', 'AD', 'AE', 'AF', 'AG', 'AH', 'AI', 'AJ',\n",
       "       'AK', 'AL', 'AM', 'AN', 'AO', 'AP', 'AQ', 'AR', 'AS', 'AT', 'AU',\n",
       "       'AV', 'AW', 'AX', 'AY', 'AZ', 'B', 'BA', 'BB', 'BC', 'BD', 'BF',\n",
       "       'BG', 'BH', 'BK', 'BL', 'BM', 'BN', 'BO', 'BP', 'BQ', 'BR', 'BS',\n",
       "       'BT', 'BU', 'BV', 'BW', 'BY', 'BZ', 'C', 'CA', 'CB', 'D', 'E', 'F',\n",
       "       'G', 'H', 'I', 'J', 'K', 'L', 'M', 'N', 'O', 'P', 'Q', 'R', 'S',\n",
       "       'U', 'V', 'W', 'X', 'Y', 'Z'], dtype=object)"
      ]
     },
     "execution_count": 17,
     "metadata": {},
     "output_type": "execute_result"
    }
   ],
   "source": [
    "# Print the number of unique values in the 'Blind_Make' column\n",
    "print(x_train['Blind_Make'].nunique())\n",
    "# Sort and print the unique values in the 'Blind_Make' column\n",
    "np.sort(x_train['Blind_Make'].unique())"
   ]
  },
  {
   "cell_type": "markdown",
   "metadata": {},
   "source": [
    "Based on the above output for the feature \"Blind_Make\", there are 75 different makes of vehicles in the dataset."
   ]
  },
  {
   "cell_type": "code",
   "execution_count": 18,
   "metadata": {},
   "outputs": [
    {
     "name": "stdout",
     "output_type": "stream",
     "text": [
      "1303\n"
     ]
    },
    {
     "data": {
      "text/plain": [
       "array(['?', 'A.2', 'A.3', ..., 'Z.45', 'Z.5', 'Z.8'], dtype=object)"
      ]
     },
     "execution_count": 18,
     "metadata": {},
     "output_type": "execute_result"
    }
   ],
   "source": [
    "# Print the number of unique values in the 'Blind_Model' column\n",
    "print(x_train['Blind_Model'].nunique())\n",
    "# Sort and print the unique values in the 'Blind_Model' column\n",
    "np.sort(x_train['Blind_Model'].unique())"
   ]
  },
  {
   "cell_type": "markdown",
   "metadata": {},
   "source": [
    "The above output shows that there are 1303 distinct values in the \"Blind_Model\" feature. It seems that this feature already contains vehicle make information, similar to what's in the \"Blind_Make\" feature. The redundancy in this feature should be taken into account during featurization."
   ]
  },
  {
   "cell_type": "code",
   "execution_count": 19,
   "metadata": {},
   "outputs": [
    {
     "name": "stdout",
     "output_type": "stream",
     "text": [
      "2740\n"
     ]
    },
    {
     "data": {
      "text/plain": [
       "array(['?', 'A.2.0', 'A.3.0', ..., 'Z.45.0', 'Z.5.0', 'Z.8.0'],\n",
       "      dtype=object)"
      ]
     },
     "execution_count": 19,
     "metadata": {},
     "output_type": "execute_result"
    }
   ],
   "source": [
    "# Print the number of unique values in the 'Blind_Submodel' column\n",
    "print(x_train['Blind_Submodel'].nunique())\n",
    "# Sort and print the unique values in the 'Blind_Submodel' column\n",
    "np.sort(x_train['Blind_Submodel'].unique())"
   ]
  },
  {
   "cell_type": "markdown",
   "metadata": {},
   "source": [
    "The 'Blind_Submodel' also exhibits the same redundancy as the 'Blind_Model' feature, duplicating information already present in the 'Blind_Make' and 'Blind_Model' features."
   ]
  },
  {
   "cell_type": "markdown",
   "metadata": {},
   "source": [
    "Let us check the unique values in the features \"Cat1\" and \"NVCat\" to see the distribution of values."
   ]
  },
  {
   "cell_type": "code",
   "execution_count": 20,
   "metadata": {},
   "outputs": [
    {
     "name": "stdout",
     "output_type": "stream",
     "text": [
      "11\n"
     ]
    },
    {
     "data": {
      "text/plain": [
       "array(['?', 'A', 'B', 'C', 'D', 'E', 'F', 'G', 'H', 'I', 'J'],\n",
       "      dtype=object)"
      ]
     },
     "execution_count": 20,
     "metadata": {},
     "output_type": "execute_result"
    }
   ],
   "source": [
    "# Print the number of unique values in the 'Cat1' column of the training data\n",
    "print(x_train['Cat1'].nunique())\n",
    "# Sort and print the unique values in the 'Cat1' column of the training data\n",
    "np.sort(x_train['Cat1'].unique())"
   ]
  },
  {
   "cell_type": "code",
   "execution_count": null,
   "metadata": {},
   "outputs": [
    {
     "name": "stdout",
     "output_type": "stream",
     "text": [
      "15\n"
     ]
    },
    {
     "data": {
      "text/plain": [
       "array(['M', 'O', 'F', 'N', 'J', 'L', 'B', 'H', 'A', 'G', 'K', 'I', 'E',\n",
       "       'C', 'D'], dtype=object)"
      ]
     },
     "metadata": {},
     "output_type": "display_data"
    }
   ],
   "source": [
    "# Print the number of unique values in the 'NVCat' column of the training data\n",
    "print(x_train['NVCat'].nunique())\n",
    "# Print the unique values in the 'NVCat' column of the training data\n",
    "x_train['NVCat'].unique()"
   ]
  },
  {
   "cell_type": "markdown",
   "metadata": {},
   "source": [
    "The features 'Cat1' and 'NVCat' contain English alphabets. The features starting with the names 'Cat' and 'NVCat' are of a similar kind based on previous analysis and can be grouped together for featurization."
   ]
  },
  {
   "cell_type": "markdown",
   "metadata": {},
   "source": [
    "Let us check the unique values in the features \"Var1\" and \"NVCat\" to see the distribution of values."
   ]
  },
  {
   "cell_type": "code",
   "execution_count": 22,
   "metadata": {},
   "outputs": [
    {
     "name": "stdout",
     "output_type": "stream",
     "text": [
      "360\n"
     ]
    },
    {
     "data": {
      "text/plain": [
       "array([-0.7542818, -0.6337572, -0.3766379,  0.017076 ,  0.2179505,\n",
       "        0.3224052,  0.4429298,  0.5634545,  0.7000491,  1.2705325])"
      ]
     },
     "execution_count": 22,
     "metadata": {},
     "output_type": "execute_result"
    }
   ],
   "source": [
    "# Print the number of unique values in the 'Var1' column of the training data\n",
    "print(x_train['Var1'].nunique())\n",
    "# Sort and print the first 10 unique values in the 'Var1' column of the training data\n",
    "np.sort(x_train['Var1'].unique()[:10])"
   ]
  },
  {
   "cell_type": "code",
   "execution_count": 24,
   "metadata": {},
   "outputs": [
    {
     "name": "stdout",
     "output_type": "stream",
     "text": [
      "29\n"
     ]
    },
    {
     "data": {
      "text/plain": [
       "array([-0.2315299,  2.0546834,  1.4831301,  3.1977899,  2.5119259,\n",
       "        1.1401981,  0.9115767,  4.3408966,  6.62711  ,  1.7280815,\n",
       "        0.7482758,  0.6258001,  2.7078872,  3.8836539,  5.2553821,\n",
       "        4.9124498,  0.4543341,  3.6876929,  1.2926123,  4.05512  ,\n",
       "        2.3404601,  0.5305412,  0.6829554,  1.8260621,  1.6390083,\n",
       "        0.3400235,  5.4840031,  1.0154955,  2.8167543])"
      ]
     },
     "execution_count": 24,
     "metadata": {},
     "output_type": "execute_result"
    }
   ],
   "source": [
    "# Print the number of unique values in the 'NVVar1' column of the training data\n",
    "print(x_train['NVVar1'].nunique())\n",
    "# Print the unique values in the 'NVVar1' column of the training data\n",
    "x_train['NVVar1'].unique()"
   ]
  },
  {
   "cell_type": "markdown",
   "metadata": {},
   "source": [
    "The features 'Var1' and 'NVVar1' contain numerical values. The features starting with the names 'Var' and 'NVVar' are of a similar kind based on previous analysis and can be grouped together for mathematical featurization."
   ]
  },
  {
   "cell_type": "markdown",
   "metadata": {},
   "source": [
    "Group the \"Claim_Amount\" column of the training data by the values in the \"Cat1\" column, then calculate the mean of \"Claim_Amount\" for each group."
   ]
  },
  {
   "cell_type": "code",
   "execution_count": 25,
   "metadata": {},
   "outputs": [
    {
     "data": {
      "text/plain": [
       "Cat1\n",
       "?    0.793362\n",
       "A    1.196787\n",
       "B    1.475656\n",
       "C    1.289835\n",
       "D    1.313834\n",
       "E    1.149625\n",
       "F    1.425081\n",
       "G    1.264641\n",
       "H    1.269609\n",
       "I    1.336931\n",
       "J    1.178263\n",
       "Name: Claim_Amount, dtype: float64"
      ]
     },
     "execution_count": 25,
     "metadata": {},
     "output_type": "execute_result"
    }
   ],
   "source": [
    "x_train.groupby(by='Cat1')['Claim_Amount'].mean()"
   ]
  },
  {
   "cell_type": "code",
   "execution_count": 15,
   "metadata": {},
   "outputs": [
    {
     "data": {
      "text/plain": [
       "Cat1\n",
       "B    4017739\n",
       "I    2654532\n",
       "D    2487951\n",
       "F    1305108\n",
       "G     782602\n",
       "A     768871\n",
       "C     401355\n",
       "E     279699\n",
       "J     233968\n",
       "H     226484\n",
       "?      25981\n",
       "Name: count, dtype: int64"
      ]
     },
     "execution_count": 15,
     "metadata": {},
     "output_type": "execute_result"
    }
   ],
   "source": [
    "x_train['Cat1'].value_counts()"
   ]
  },
  {
   "cell_type": "markdown",
   "metadata": {},
   "source": [
    "The above output shows that the claim amount is distributed more or less equally for all the distinct values except for \"?\", which has a comparatively lower claim amount. Since there are very few \"?\" values in the \"Cat1\" feature, we could impute them with a new value that is not available in this feature. This approach can be applied to any features with a low number of \"?\" values."
   ]
  },
  {
   "cell_type": "markdown",
   "metadata": {},
   "source": [
    "Create a heatmap of the correlation matrix for numerical columns in the training data."
   ]
  },
  {
   "cell_type": "code",
   "execution_count": 16,
   "metadata": {},
   "outputs": [
    {
     "data": {
      "text/plain": [
       "Text(0.5, 1.0, 'Correlation between numerical features')"
      ]
     },
     "execution_count": 16,
     "metadata": {},
     "output_type": "execute_result"
    },
    {
     "data": {
      "image/png": "[encoded data removed]",
      "text/plain": [
       "<Figure size 1200x800 with 2 Axes>"
      ]
     },
     "metadata": {},
     "output_type": "display_data"
    }
   ],
   "source": [
    "plt.figure(figsize=(12,8))\n",
    "sns.heatmap(x_train[x_train.dtypes[x_train.dtypes != 'object'].index].corr())\n",
    "plt.title(\"Correlation between numerical features\")"
   ]
  },
  {
   "cell_type": "markdown",
   "metadata": {},
   "source": [
    "The correlation plot above indicates a strong correlation among the \"Var\" features. This finding suggests that focusing on additional featurization for \"Var\" features could be beneficial. However, none of the numerical features show a significant correlation with the target variable \"Claim_Amount\"."
   ]
  },
  {
   "cell_type": "markdown",
   "metadata": {},
   "source": [
    "Calculate the correlation of numerical columns in the training data with \"Claim_Amount\"."
   ]
  },
  {
   "cell_type": "code",
   "execution_count": 29,
   "metadata": {},
   "outputs": [
    {
     "data": {
      "text/plain": [
       "Row_ID           0.000633\n",
       "Household_ID     0.000582\n",
       "Vehicle          0.000965\n",
       "Calendar_Year   -0.003552\n",
       "Model_Year       0.000172\n",
       "Var1            -0.000859\n",
       "Var2            -0.001338\n",
       "Var3            -0.001142\n",
       "Var4            -0.001201\n",
       "Var5            -0.000186\n",
       "Var6            -0.001316\n",
       "Var7            -0.001424\n",
       "Var8            -0.001558\n",
       "NVVar1           0.000487\n",
       "NVVar2           0.001443\n",
       "NVVar3           0.001943\n",
       "NVVar4           0.000140\n",
       "Claim_Amount     1.000000\n",
       "dtype: float64"
      ]
     },
     "execution_count": 29,
     "metadata": {},
     "output_type": "execute_result"
    }
   ],
   "source": [
    "x_train[x_train.dtypes[x_train.dtypes != 'object'].index].corrwith(x_train['Claim_Amount'])"
   ]
  },
  {
   "cell_type": "markdown",
   "metadata": {},
   "source": [
    "The output above indicates that none of the numerical features have a significant correlation with the target variable 'Claim_Amount'. We should also consider the text features to see if any of them have a significant correlation with 'Claim_Amount'."
   ]
  },
  {
   "cell_type": "markdown",
   "metadata": {},
   "source": [
    "Check whether there are any features that have null values."
   ]
  },
  {
   "cell_type": "code",
   "execution_count": 30,
   "metadata": {},
   "outputs": [
    {
     "data": {
      "text/html": [
       "<div>\n",
       "<style scoped>\n",
       "    .dataframe tbody tr th:only-of-type {\n",
       "        vertical-align: middle;\n",
       "    }\n",
       "\n",
       "    .dataframe tbody tr th {\n",
       "        vertical-align: top;\n",
       "    }\n",
       "\n",
       "    .dataframe thead th {\n",
       "        text-align: right;\n",
       "    }\n",
       "</style>\n",
       "<table border=\"1\" class=\"dataframe\">\n",
       "  <thead>\n",
       "    <tr style=\"text-align: right;\">\n",
       "      <th></th>\n",
       "      <th>Null_Count</th>\n",
       "    </tr>\n",
       "  </thead>\n",
       "  <tbody>\n",
       "    <tr>\n",
       "      <th>Cat12</th>\n",
       "      <td>28882</td>\n",
       "    </tr>\n",
       "  </tbody>\n",
       "</table>\n",
       "</div>"
      ],
      "text/plain": [
       "       Null_Count\n",
       "Cat12       28882"
      ]
     },
     "execution_count": 30,
     "metadata": {},
     "output_type": "execute_result"
    }
   ],
   "source": [
    "# Create a DataFrame containing the count of null values in each column of the training data\n",
    "null_count = pd.DataFrame(x_train.isnull().sum(), columns=['Null_Count'])\n",
    "# Filter the DataFrame to include only columns with more than 0 null values\n",
    "null_count[null_count['Null_Count'] > 0]"
   ]
  },
  {
   "cell_type": "code",
   "execution_count": 31,
   "metadata": {},
   "outputs": [
    {
     "name": "stdout",
     "output_type": "stream",
     "text": [
      "0.22%\n"
     ]
    }
   ],
   "source": [
    "# Calculate and print the percentage of null values in the feature \"Cat12\"\n",
    "print(\"{:.2f}%\".format(round(null_count[null_count['Null_Count'] > 0].loc['Cat12'][0] / len(x_train) * 100, 2)))"
   ]
  },
  {
   "cell_type": "markdown",
   "metadata": {},
   "source": [
    "The output above shows that the feature \"Cat12\" has null values. The count of null values is significantly low, so we can impute them with a new value, as mentioned for \"?\" in other categorical features."
   ]
  },
  {
   "cell_type": "markdown",
   "metadata": {},
   "source": [
    "Review the target variable \"Claim_Amount\" to examine the distribution of values."
   ]
  },
  {
   "cell_type": "code",
   "execution_count": 32,
   "metadata": {},
   "outputs": [
    {
     "name": "stdout",
     "output_type": "stream",
     "text": [
      "Total number of data points:  13184290\n",
      "Total number of data points with Non-Zero Claim Amounts:  95605\n",
      "Percentage of Non-Zero Claim Amounts: 0.73%\n",
      "Percentage of data with Claim_Amount equals zero: 99.27%\n",
      "Percentage of data for Claim_Amount between greater than 0 and less than 100: 0.47%\n",
      "Percentage of data with Claim_Amount > 100: 0.26%\n"
     ]
    }
   ],
   "source": [
    "# Print the total number of data points in the training data\n",
    "print('Total number of data points: ', len(x_train))\n",
    "# Print the total number of data points with non-zero claim amounts\n",
    "print(\"Total number of data points with Non-Zero Claim Amounts: \", len(x_train[x_train['Claim_Amount']>0]))\n",
    "# Calculate and print the percentage of non-zero claim amounts\n",
    "print(\"Percentage of Non-Zero Claim Amounts: {:.2f}%\".format(round(len(x_train[x_train['Claim_Amount']>0])/len(x_train), 4) * 100))\n",
    "# Calculate and print the percentage of data points with claim amounts equal to zero\n",
    "print(\"Percentage of data with Claim_Amount equals zero: {:.2f}%\".format(round(len(x_train[x_train['Claim_Amount']==0]) / len(x_train) * 100, 2)))\n",
    "# Calculate and print the percentage of data points with claim amounts between greater than 0 and less than 100\n",
    "print(\"Percentage of data for Claim_Amount between greater than 0 and less than 100: {:.2f}%\".format(\n",
    "      round((len(x_train[(x_train['Claim_Amount']>0) & (x_train['Claim_Amount']<100)]) / len(x_train)) * 100, 2)))\n",
    "# Calculate and print the percentage of data points with claim amounts greater than or equal to 100\n",
    "print(\"Percentage of data with Claim_Amount > 100: {:.2f}%\".format(round(len(x_train[x_train['Claim_Amount']>=100]) / len(x_train), 4) * 100))"
   ]
  },
  {
   "cell_type": "markdown",
   "metadata": {},
   "source": [
    "Based on the above output, 99.27% of the data has a Claim_Amount equal to zero, while only 0.47% falls between greater than 0 and less than 100. This indicates a significant imbalance in the target variable. Let's confirm this imbalance by plotting histograms."
   ]
  },
  {
   "cell_type": "code",
   "execution_count": 33,
   "metadata": {},
   "outputs": [
    {
     "data": {
      "image/png": "[encoded data removed]",
      "text/plain": [
       "<Figure size 1200x600 with 1 Axes>"
      ]
     },
     "metadata": {},
     "output_type": "display_data"
    }
   ],
   "source": [
    "# Create a histogram plot with kernel density estimation (KDE) for 'Claim_Amount' values greater than 0\n",
    "plt.figure(figsize=(12, 6))\n",
    "sns.histplot(x_train[x_train['Claim_Amount']>0]['Claim_Amount'], bins=500, kde=True)\n",
    "plt.xlabel('Value')\n",
    "plt.ylabel('Frequency')\n",
    "plt.title('Distribution of \"Claim_Amount\" with KDE for Claim_Amount > 0')\n",
    "plt.show()"
   ]
  },
  {
   "cell_type": "code",
   "execution_count": 34,
   "metadata": {},
   "outputs": [
    {
     "data": {
      "image/png": "[encoded data removed]",
      "text/plain": [
       "<Figure size 1200x600 with 1 Axes>"
      ]
     },
     "metadata": {},
     "output_type": "display_data"
    }
   ],
   "source": [
    "# Create a histogram plot with kernel density estimation (KDE) for 'Claim_Amount' values greater than 1000\n",
    "plt.figure(figsize=(12, 6))\n",
    "sns.histplot(x_train[x_train['Claim_Amount']>1000]['Claim_Amount'], bins=1000, kde=True)\n",
    "plt.xlabel('Value')\n",
    "plt.ylabel('Frequency')\n",
    "plt.title('Distribution of \"Claim_Amount\" with KDE for Claim_Amount > 1,000')\n",
    "plt.show()"
   ]
  },
  {
   "cell_type": "markdown",
   "metadata": {},
   "source": [
    "The histograms above show that there are outliers in the data with high Claim_Amount values. Removing these outliers would likely improve the model's performance."
   ]
  },
  {
   "cell_type": "markdown",
   "metadata": {},
   "source": [
    "Given the size of our dataset, which includes 17 million data points in both the training and test sets, training the model with all newly created data post-featurization might not be feasible. Therefore, we may need to consider eliminating the least significant features from the final dataset.\n",
    "\n",
    "Read the list of important features generated by the XG Boost model (post featurization). There are a couple of lists of least important features created by the XGBoost model. One is based on 60% randomly sampled data, and the second one is derived from saved data that has already been sampled. The model was run 10 times for each set of data to determine the feature importance."
   ]
  },
  {
   "cell_type": "code",
   "execution_count": 8,
   "metadata": {},
   "outputs": [
    {
     "name": "stdout",
     "output_type": "stream",
     "text": [
      "52\n",
      "Index(['Calendar_Year_Log', 'Calendar_Year_Nums_Exp', 'Calendar_Year_Nums_Log',\n",
      "       'Model_Year_Log', 'Model_Year_Nums_Log', 'NVVar1_Exp', 'NVVar2_Exp',\n",
      "       'NVVar2_Log', 'NVVar3_Exp', 'NVVar3_Log', 'NVVar4_Exp', 'NVVar4_Log',\n",
      "       'Var1_Exp', 'Var2_Exp', 'Var3_Exp', 'Var3_Log', 'Var4_Exp', 'Var5_Exp',\n",
      "       'Var6_Exp', 'Var6_Log', 'Var7_Exp', 'Var8_Log', 'NVVar2_Sqrt',\n",
      "       'NVVar4_Sqrt', 'NVVar3_Sqrt', 'Var8_Exp', 'Var4_Log', 'Var1_Log',\n",
      "       'Var7_Log', 'Var3_Sqrt', 'Var2_Log', 'NVVar1_Log', 'Var5_Log',\n",
      "       'NVVar4_NVVar3_Sub', 'Var8_Inv', 'NVVar3_NVVar1_Div',\n",
      "       'NVVar3_NVVar4_Mul', 'NVVar3_NVVar4_Div', 'NVVar4_NVVar1_Div',\n",
      "       'NVVar2_NVVar3_Mul', 'NVVar1_NVVar3_Mul', 'Var5_Sqrt',\n",
      "       'NVVar3_NVVar2_Div', 'Var6_Inv', 'Var4_Inv', 'NVVar2_NVVar4_Mul',\n",
      "       'NVVar2_NVVar3_Div', 'Var1_Inv', 'NVVar1_NVVar4_Mul',\n",
      "       'NVVar2_NVVar4_Div', 'Var7_Sqrt', 'NVVar3_Inv'],\n",
      "      dtype='object', name='Feature')\n"
     ]
    }
   ],
   "source": [
    "imp_feats_vs = pd.read_csv(r'D:\\ML_Projects\\Vehicle_Insurance_Claims_Prediction\\models\\imp_feats_volatile_sampling.csv')\n",
    "imp_feats_fs = pd.read_csv(r'D:\\ML_Projects\\Vehicle_Insurance_Claims_Prediction\\models\\imp_feats_fixed_sampling.csv')\n",
    "\n",
    "# Group by Feature and sum Importance, then sort\n",
    "grouped_vs = imp_feats_vs.groupby('Feature')['Importance'].sum().nsmallest(50)\n",
    "grouped_fs = imp_feats_fs.groupby('Feature')['Importance'].sum().nsmallest(50)\n",
    "# Get common features\n",
    "common_features = grouped_vs.index.intersection(grouped_fs.index)\n",
    "\n",
    "# List the least important features\n",
    "print(common_features)"
   ]
  },
  {
   "cell_type": "markdown",
   "metadata": {},
   "source": [
    "The output above indicates that many newly created features are not useful for model performance. Therefore, we can remove these features during featurization."
   ]
  },
  {
   "cell_type": "markdown",
   "metadata": {},
   "source": [
    "Check the feature importance list to determine if the newly created features are having a significant impact on the model's performance."
   ]
  },
  {
   "cell_type": "code",
   "execution_count": 15,
   "metadata": {},
   "outputs": [
    {
     "name": "stdout",
     "output_type": "stream",
     "text": [
      "93\n",
      "Index(['NVVar4_NVVar2_Sub', 'Calendar_Year_Nums', 'Calendar_Year',\n",
      "       'Model_Year_Nums_Exp', 'Model_Year', 'Cat5', 'Cat6', 'Cat12',\n",
      "       'NVVar3_NVVar1_Sub', 'Calendar_Year_Model_Year_Add', 'Cat11', 'Cat10',\n",
      "       'Model_Year_Nums', 'Var2', 'NVVar4_NVVar1_Sub', 'Cat8',\n",
      "       'Calendar_Year_Model_Year_Mul', 'Vehicle_Log', 'Cat4', 'Cat_9-12_w2v_1',\n",
      "       'Cat_9-12_w2v_4', 'Calendar_Year_Model_Year_Div', 'Cat_9-12_w2v_2',\n",
      "       'Household_ID', 'OrdCat', 'Cat_9-12', 'Vehicle',\n",
      "       'Calendar_Year_Model_Year_Sub', 'Cat_9-12_w2v_5', 'NVVar1_Sqrt',\n",
      "       'NVVar3', 'Cat9', 'NVVar1', 'Var6', 'NVVar2', 'Blind_Model', 'Var5',\n",
      "       'Var4', 'Var1', 'Blind_Make', 'Var8', 'Vehicle_Exp', 'Cat_1-4_w2v_5',\n",
      "       'Blind_Submodel', 'NVVar4', 'Cat_9-12_w2v_3', 'Cat_5-8_w2v_2',\n",
      "       'Blind_Submodel_Num', 'NVVar2_NVVar1_Sub', 'Var7', 'Cat2',\n",
      "       'Blind_Model_Char', 'NVVar3_NVVar2_Sub', 'Cat_1-4_w2v_1',\n",
      "       'NVVar1_NVVar3_Sub', 'Cat_1-4_w2v_3', 'Var3_Inv', 'NVCat',\n",
      "       'NVVar1_NVVar2_Sub', 'Var3', 'Cat1', 'Cat_5-8_w2v_1',\n",
      "       'NVVar1_NVVar4_Sub', 'Blind_Model_Num', 'Cat_1-4_w2v_4',\n",
      "       'Cat_1-4_w2v_2', 'NVVar3_NVVar4_Add', 'Cat3', 'NVVar1_NVVar2_Div',\n",
      "       'NVVar2_NVVar3_Sub', 'Model_Nums', 'Cat7', 'Cat_5-8_w2v_3',\n",
      "       'NVVar1_NVVar2_Add', 'NVVar1_Inv', 'Cat_5-8_w2v_4', 'NVVar4_Inv',\n",
      "       'NVVar1_NVVar3_Div', 'NVVar2_NVVar4_Sub', 'NVVar1_NVVar4_Add',\n",
      "       'Cat_5-8', 'Cat_1-4', 'NVVar2_NVVar3_Add', 'Var2_Inv', 'Cat_5-8_w2v_5',\n",
      "       'NVVar1_NVVar3_Add', 'Var5_Inv', 'NVVar2_Inv', 'NVVar4_NVVar3_Div',\n",
      "       'NVVar1_NVVar4_Div', 'NVVar3_NVVar4_Sub', 'NVVar1_NVVar2_Mul',\n",
      "       'NVVar2_NVVar1_Div'],\n",
      "      dtype='object', name='Feature')\n"
     ]
    }
   ],
   "source": [
    "# Group by Feature and sum Importance, then sort\n",
    "grouped_vs = imp_feats_vs.groupby('Feature')['Importance'].sum().nlargest(100)\n",
    "grouped_fs = imp_feats_fs.groupby('Feature')['Importance'].sum().nlargest(100)\n",
    "\n",
    "# Get common features\n",
    "common_features = grouped_vs.index.intersection(grouped_fs.index)\n",
    "\n",
    "# List the top importance features\n",
    "print(common_features)"
   ]
  },
  {
   "cell_type": "markdown",
   "metadata": {},
   "source": [
    "The output above indicates that the newly created features are beneficial for the model."
   ]
  }
 ],
 "metadata": {
  "kernelspec": {
   "display_name": "Python 3 (ipykernel)",
   "language": "python",
   "name": "python3"
  },
  "language_info": {
   "codemirror_mode": {
    "name": "ipython",
    "version": 3
   },
   "file_extension": ".py",
   "mimetype": "text/x-python",
   "name": "python",
   "nbconvert_exporter": "python",
   "pygments_lexer": "ipython3",
   "version": "3.11.5"
  }
 },
 "nbformat": 4,
 "nbformat_minor": 2
}
